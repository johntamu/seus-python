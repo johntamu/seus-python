{
 "cells": [
  {
   "cell_type": "code",
   "execution_count": 60,
   "metadata": {},
   "outputs": [],
   "source": [
    "# Load packages\n",
    "%matplotlib inline\n",
    "import matplotlib.pyplot as plt\n",
    "import matplotlib as mpl\n",
    "import matplotlib.ticker as ticker\n",
    "from matplotlib.ticker import (MultipleLocator, FormatStrFormatter,\n",
    "                               AutoMinorLocator)\n",
    "import numpy as np\n",
    "import pandas as pd\n",
    "pd.set_option('max_rows', 6)\n",
    "from sklearn.linear_model import LinearRegression\n",
    "import statsmodels.api as sm\n",
    "# import cmocean.cm as cmo\n",
    "import csv\n",
    "import statsmodels.api as sm\n",
    "from scipy import stats\n",
    "\n",
    "# mpl.rcParams['mathtext.fontset'] = 'cm'\n",
    "# mpl.rcParams['mathtext.rm'] = 'serif'\n",
    "\n",
    "x = \"Year CE\"\n",
    "phe = r'$\\mathrm{\\delta}^{15}$N Phe ('u\"\\u2030)\"\n",
    "eaa_neaa = ['Phe', 'Thr', 'Ile', 'Leu', 'Val', 'Asx', 'Glx', 'Pro', 'Ala', 'Ser', 'Gly'] # For Essential/Non-Essential ordering\n",
    "tr_srcaa = ['Glu', 'Asp', 'Ala', 'Ile', 'Leu', 'Pro', 'Val', 'Gly', 'Ser', 'Lys', 'Tyr', 'Phe', 'Thr'] # For Trophic/Source AA ordering\n",
    "n = r'$\\mathrm{\\delta}^{15}$N ['u\"\\u2030]\"\n",
    "c = r'$\\mathrm{\\delta}^{13}$C ['u\"\\u2030]\"\n",
    "deg = u'SST [\\u00B0C]'\n",
    "\n",
    "# Import data\n",
    "path1 = '~/Documents/GitHub/data/schiff_bulk_years_07-05-2020.csv'\n",
    "# path2 = '~/Documents/GitHub/data/schiff_bulk_years_jack4907_12-15-2019.csv'\n",
    "# path3 = '~/Documents/GitHub/data/schiff_bulk_years_sav_12-15-2019.csv'\n",
    "# path4 = '~/Documents/GitHub/data/schiff_bulk_years_stetson_12-15-2019.csv'\n",
    "# path5 = '~/Documents/GitHub/data/schiff_bulk_years_sav_12-22-2019.csv'\n",
    "\n",
    "df = pd.read_csv(path1, comment = '#')\n",
    "df.rename(columns={\"d15n.vs.air\": \"d15n\", \"d13c.vs.vpdb\": \"d13c\", \"linear.ad\" : \"yrAD\", \n",
    "                   \"coral.id\" : \"coral\", \"sample.no.\" : \"sample\",\n",
    "                  \"secondary.ad\" : \"yrAD2\", \"distance..mm.\" : \"distance\"}, inplace = True)\n",
    "\n",
    "# Round yrAD column to make things easier\n",
    "df.yrAD = df.yrAD.round(0)\n",
    "\n",
    "# df_jack4684 = df[df.coral == 'jack-4684-bc-unk']\n",
    "# df_jack4686t1 = df[df.coral == 'jack-4686-bc-d1-t1']\n",
    "\n",
    "df_stet = df[df.coral == 'stet-4904-bc1-d2']\n",
    "df_jack4907 = df[df.coral == 'jack-4907-bc1-d3']\n",
    "df_jack_usgs = df[df.coral == 'jack-4907-bc1-d1']\n",
    "df_sav = df[df.coral == 'sav-4902-bc1-unk']\n",
    "df_jack4684 = df[df.coral == 'jack-4684-bc-unk']\n",
    "df_jack4686 = df[df.coral == 'jack-4686-bc1-d1-t1']\n",
    "df_jack4686_mill = df[df.coral == 'jack-4686-bc-d1-t1']\n",
    "\n",
    "myfile = '~/Documents/GitHub/data/cleaned_ndata_07-06-2020.csv'\n",
    "ndata = pd.read_csv(myfile, sep=',') \n",
    "filter1 = ndata[(ndata['Region'] == 'SEUS') | (ndata['Region'] == 'Gulf of Mexico')]\n",
    "filter2 = ndata[(ndata['Region'] == 'SEUS')]\n",
    "# filter2 = filter2.loc[filter2[\"Phe\"] < 13]\n",
    "ndata = filter2\n",
    "ndata['error'] = [1.0,1.1,1.1,0.4,0.3,0.5,0.1,0.0,0.0,0.0,0.0,1.0,1.0,1.9,1.1,0.9]\n",
    "ndata = ndata.loc[ndata[\"Phe\"] < 13]\n",
    "ndata.loc[:,'glu_error'] = [1,1,1,1.8,1,1,1,1,1,1.9,1,1,1,1,1]"
   ]
  },
  {
   "cell_type": "code",
   "execution_count": 61,
   "metadata": {},
   "outputs": [
    {
     "name": "stderr",
     "output_type": "stream",
     "text": [
      "/Users/jts/opt/anaconda3/lib/python3.7/site-packages/ipykernel_launcher.py:3: SettingWithCopyWarning: \n",
      "A value is trying to be set on a copy of a slice from a DataFrame.\n",
      "Try using .loc[row_indexer,col_indexer] = value instead\n",
      "\n",
      "See the caveats in the documentation: http://pandas.pydata.org/pandas-docs/stable/user_guide/indexing.html#returning-a-view-versus-a-copy\n",
      "  This is separate from the ipykernel package so we can avoid doing imports until\n",
      "/Users/jts/opt/anaconda3/lib/python3.7/site-packages/ipykernel_launcher.py:4: SettingWithCopyWarning: \n",
      "A value is trying to be set on a copy of a slice from a DataFrame.\n",
      "Try using .loc[row_indexer,col_indexer] = value instead\n",
      "\n",
      "See the caveats in the documentation: http://pandas.pydata.org/pandas-docs/stable/user_guide/indexing.html#returning-a-view-versus-a-copy\n",
      "  after removing the cwd from sys.path.\n"
     ]
    },
    {
     "name": "stdout",
     "output_type": "stream",
     "text": [
      "         Sample ID           Sample ID2  Year CE   Phe   Ser   Gly     Src_AA  \\\n",
      "0   sav-4902-bc1_2  Savannah Banks-4902   1338.0   8.4  17.5  10.4  12.100000   \n",
      "1   sav-4902-bc1_7  Savannah Banks-4902   1287.0   6.8  11.8  11.2   9.933333   \n",
      "2  sav-4902-bc1_15  Savannah Banks-4902   1206.0  11.0  13.9  11.6  12.166667   \n",
      "3  sav-4902-bc1_33  Savannah Banks-4902   1023.0  12.7  10.1  12.0  11.600000   \n",
      "4  sav-4902-bc1_61  Savannah Banks-4902    738.0  11.0  11.8  11.1  11.300000   \n",
      "\n",
      "   Src_AA_sd  \n",
      "0   4.782259  \n",
      "1   2.730079  \n",
      "2   1.530795  \n",
      "3   1.345362  \n",
      "4   0.435890  \n"
     ]
    },
    {
     "data": {
      "image/png": "[encoded data removed]",
      "text/plain": [
       "<Figure size 432x360 with 1 Axes>"
      ]
     },
     "metadata": {
      "needs_background": "light"
     },
     "output_type": "display_data"
    }
   ],
   "source": [
    "source = ndata[[\"Sample ID\", 'Sample ID2', 'Year CE', 'Phe', 'Ser', 'Gly']]\n",
    "col = source.loc[:, 'Phe':'Gly']\n",
    "source['Src_AA'] = col.mean(axis=1)\n",
    "source['Src_AA_sd'] = col.std(axis=1)\n",
    "print(source.head(n = 5))\n",
    "\n",
    "mpl.rc('font',family='Helvetica')\n",
    "\n",
    "n_jack = source[source['Sample ID2']=='Jacksonville-4907']\n",
    "n_jack2 = source[source['Sample ID2']=='Jacksonville-4684']\n",
    "n_sav = source[source['Sample ID2']=='Savannah Banks-4902']\n",
    "markersize = 6\n",
    "linewidth = 0.5\n",
    "\n",
    "fig = plt.figure(figsize=(6,5))\n",
    "ax = fig.add_subplot(111)\n",
    "ax.set_xlabel(\"Year CE\")\n",
    "ax.set_ylabel(r'Src-AA $\\mathrm{\\delta}^{15}$N ['u\"\\u2030]\")\n",
    "\n",
    "plt.plot('Year CE', 'Src_AA', data = n_jack, label = \"Jacksonville-4907-BC1\", marker = \"D\", linewidth = linewidth, linestyle = \"--\", color = \"#2c7fb8\", markeredgecolor = \"k\", markersize = markersize)\n",
    "plt.plot('Year CE', 'Src_AA', data = n_jack2, label = \"Jacksonville-4684-BC1\", marker = \"s\", linewidth = linewidth, linestyle = \"--\", color = \"#41b6c4\", markeredgecolor = \"k\", markersize = markersize)\n",
    "plt.plot('Year CE', 'Src_AA', data = n_sav, label = \"Savannah-4902-BC1\", marker = \"^\", linewidth = linewidth, linestyle = \"--\", color = \"#a1dab4\", markeredgecolor = \"k\", markersize = markersize)\n",
    "\n",
    "ax.tick_params(direction='in', which = 'both')\n",
    "ax.xaxis.set_minor_locator(MultipleLocator(250))\n",
    "ax.yaxis.set_minor_locator(MultipleLocator(1))\n",
    "\n",
    "# ax.hlines(y=2, xmin = 950, xmax = 1250, color='r', lw=2)\n",
    "# ax.hlines(y=2, xmin = 1500, xmax = 1850, color='b', lw=2)\n",
    "# ax.text(y=1.25, x=1000, s='MCA', fontsize = 12)\n",
    "# ax.text(y=1.25, x=1600, s='LIA', fontsize = 12)"
   ]
  },
  {
   "cell_type": "code",
   "execution_count": 62,
   "metadata": {},
   "outputs": [
    {
     "name": "stderr",
     "output_type": "stream",
     "text": [
      "/Users/jts/opt/anaconda3/lib/python3.7/site-packages/ipykernel_launcher.py:3: SettingWithCopyWarning: \n",
      "A value is trying to be set on a copy of a slice from a DataFrame.\n",
      "Try using .loc[row_indexer,col_indexer] = value instead\n",
      "\n",
      "See the caveats in the documentation: http://pandas.pydata.org/pandas-docs/stable/user_guide/indexing.html#returning-a-view-versus-a-copy\n",
      "  This is separate from the ipykernel package so we can avoid doing imports until\n",
      "/Users/jts/opt/anaconda3/lib/python3.7/site-packages/ipykernel_launcher.py:4: SettingWithCopyWarning: \n",
      "A value is trying to be set on a copy of a slice from a DataFrame.\n",
      "Try using .loc[row_indexer,col_indexer] = value instead\n",
      "\n",
      "See the caveats in the documentation: http://pandas.pydata.org/pandas-docs/stable/user_guide/indexing.html#returning-a-view-versus-a-copy\n",
      "  after removing the cwd from sys.path.\n"
     ]
    },
    {
     "name": "stdout",
     "output_type": "stream",
     "text": [
      "         Sample ID           Sample ID2  Year CE   Phe   Ser   Gly     Src_AA  \\\n",
      "0   sav-4902-bc1_2  Savannah Banks-4902   1338.0   8.4  17.5  10.4  12.100000   \n",
      "1   sav-4902-bc1_7  Savannah Banks-4902   1287.0   6.8  11.8  11.2   9.933333   \n",
      "2  sav-4902-bc1_15  Savannah Banks-4902   1206.0  11.0  13.9  11.6  12.166667   \n",
      "3  sav-4902-bc1_33  Savannah Banks-4902   1023.0  12.7  10.1  12.0  11.600000   \n",
      "4  sav-4902-bc1_61  Savannah Banks-4902    738.0  11.0  11.8  11.1  11.300000   \n",
      "\n",
      "   Src_AA_sd  \n",
      "0   4.782259  \n",
      "1   2.730079  \n",
      "2   1.530795  \n",
      "3   1.345362  \n",
      "4   0.435890  \n"
     ]
    },
    {
     "data": {
      "image/png": "[encoded data removed]",
      "text/plain": [
       "<Figure size 432x360 with 1 Axes>"
      ]
     },
     "metadata": {
      "needs_background": "light"
     },
     "output_type": "display_data"
    }
   ],
   "source": [
    "trophic = ndata[[\"Sample ID\", 'Sample ID2', 'Year CE','Glu', 'Asp', 'Ala', 'Ile', 'Leu', 'Pro', 'Val']]\n",
    "col = trophic.loc[: , \"Glu\":\"Val\"]\n",
    "trophic['Tr_AA'] = col.mean(axis=1)\n",
    "trophic['Tr_AA_sd'] = col.std(axis=1)\n",
    "\n",
    "print(source.head(n = 5))\n",
    "\n",
    "mpl.rc('font',family='Helvetica')\n",
    "\n",
    "n_jack = trophic[trophic['Sample ID2']=='Jacksonville-4907']\n",
    "n_jack2 = trophic[trophic['Sample ID2']=='Jacksonville-4684']\n",
    "n_sav = trophic[trophic['Sample ID2']=='Savannah Banks-4902']\n",
    "markersize = 6\n",
    "linewidth = 0.5\n",
    "\n",
    "fig = plt.figure(figsize=(6,5))\n",
    "ax = fig.add_subplot(111)\n",
    "ax.set_xlabel(\"Year CE\")\n",
    "ax.set_ylabel(r'Tr-AA $\\mathrm{\\delta}^{15}$N ['u\"\\u2030]\")\n",
    "\n",
    "plt.plot('Year CE', 'Tr_AA', data = n_jack, label = \"Jacksonville-4907-BC1\", marker = \"D\", linewidth = linewidth, linestyle = \"--\", color = \"#2c7fb8\", markeredgecolor = \"k\", markersize = markersize)\n",
    "plt.plot('Year CE', 'Tr_AA', data = n_jack2, label = \"Jacksonville-4684-BC1\", marker = \"s\", linewidth = linewidth, linestyle = \"--\", color = \"#41b6c4\", markeredgecolor = \"k\", markersize = markersize)\n",
    "plt.plot('Year CE', 'Tr_AA', data = n_sav, label = \"Savannah-4902-BC1\", marker = \"^\", linewidth = linewidth, linestyle = \"--\", color = \"#a1dab4\", markeredgecolor = \"k\", markersize = markersize)\n",
    "\n",
    "ax.tick_params(direction='in', which = 'both')\n",
    "ax.xaxis.set_minor_locator(MultipleLocator(250))\n",
    "ax.yaxis.set_minor_locator(MultipleLocator(1))\n",
    "\n",
    "# ax.hlines(y=2, xmin = 950, xmax = 1250, color='r', lw=2)\n",
    "# ax.hlines(y=2, xmin = 1500, xmax = 1850, color='b', lw=2)\n",
    "# ax.text(y=1.25, x=1000, s='MCA', fontsize = 12)\n",
    "# ax.text(y=1.25, x=1600, s='LIA', fontsize = 12)"
   ]
  },
  {
   "cell_type": "code",
   "execution_count": 63,
   "metadata": {},
   "outputs": [
    {
     "name": "stderr",
     "output_type": "stream",
     "text": [
      "/Users/jts/opt/anaconda3/lib/python3.7/site-packages/ipykernel_launcher.py:1: SettingWithCopyWarning: \n",
      "A value is trying to be set on a copy of a slice from a DataFrame.\n",
      "Try using .loc[row_indexer,col_indexer] = value instead\n",
      "\n",
      "See the caveats in the documentation: http://pandas.pydata.org/pandas-docs/stable/user_guide/indexing.html#returning-a-view-versus-a-copy\n",
      "  \"\"\"Entry point for launching an IPython kernel.\n"
     ]
    },
    {
     "name": "stdout",
     "output_type": "stream",
     "text": [
      "         Sample ID           Sample ID2  Year CE   Phe   Ser   Gly     Src_AA  \\\n",
      "0   sav-4902-bc1_2  Savannah Banks-4902   1338.0   8.4  17.5  10.4  12.100000   \n",
      "1   sav-4902-bc1_7  Savannah Banks-4902   1287.0   6.8  11.8  11.2   9.933333   \n",
      "2  sav-4902-bc1_15  Savannah Banks-4902   1206.0  11.0  13.9  11.6  12.166667   \n",
      "3  sav-4902-bc1_33  Savannah Banks-4902   1023.0  12.7  10.1  12.0  11.600000   \n",
      "4  sav-4902-bc1_61  Savannah Banks-4902    738.0  11.0  11.8  11.1  11.300000   \n",
      "\n",
      "   Src_AA_sd  Tr-Src_AA  \n",
      "0   4.782259   1.489752  \n",
      "1   2.730079   2.617518  \n",
      "2   1.530795   2.016927  \n",
      "3   1.345362   2.532885  \n",
      "4   0.435890   2.557357  \n"
     ]
    },
    {
     "data": {
      "image/png": "[encoded data removed]",
      "text/plain": [
       "<Figure size 432x360 with 1 Axes>"
      ]
     },
     "metadata": {
      "needs_background": "light"
     },
     "output_type": "display_data"
    }
   ],
   "source": [
    "source['Tr-Src_AA'] = (trophic['Tr_AA'] - source['Src_AA'])/4.67\n",
    "print(source.head(n=5))\n",
    "\n",
    "n_jack = source[source['Sample ID2']=='Jacksonville-4907']\n",
    "n_jack2 = source[source['Sample ID2']=='Jacksonville-4684']\n",
    "n_sav = source[source['Sample ID2']=='Savannah Banks-4902']\n",
    "markersize = 6\n",
    "linewidth = 0.5\n",
    "\n",
    "fig = plt.figure(figsize=(6,5))\n",
    "ax = fig.add_subplot(111)\n",
    "ax.set_xlabel(\"Year CE\")\n",
    "ax.set_ylabel(r'Tr-SrcAA $\\mathrm{\\delta}^{15}$N ['u\"\\u2030]\")\n",
    "\n",
    "plt.plot('Year CE', 'Tr-Src_AA', data = n_jack, label = \"Jacksonville-4907-BC1\", marker = \"D\", linewidth = linewidth, linestyle = \"--\", color = \"#2c7fb8\", markeredgecolor = \"k\", markersize = markersize)\n",
    "plt.plot('Year CE', 'Tr-Src_AA', data = n_jack2, label = \"Jacksonville-4684-BC1\", marker = \"s\", linewidth = linewidth, linestyle = \"--\", color = \"#41b6c4\", markeredgecolor = \"k\", markersize = markersize)\n",
    "plt.plot('Year CE', 'Tr-Src_AA', data = n_sav, label = \"Savannah-4902-BC1\", marker = \"^\", linewidth = linewidth, linestyle = \"--\", color = \"#a1dab4\", markeredgecolor = \"k\", markersize = markersize)\n",
    "\n",
    "ax.tick_params(direction='in', which = 'both')\n",
    "ax.xaxis.set_minor_locator(MultipleLocator(250))\n",
    "ax.yaxis.set_minor_locator(MultipleLocator(1))"
   ]
  },
  {
   "cell_type": "markdown",
   "metadata": {},
   "source": [
    "## Sum-V calculation\n",
    "Sum of the variability within the Trophic AAs"
   ]
  },
  {
   "cell_type": "code",
   "execution_count": 66,
   "metadata": {},
   "outputs": [
    {
     "name": "stderr",
     "output_type": "stream",
     "text": [
      "/Users/jts/opt/anaconda3/lib/python3.7/site-packages/ipykernel_launcher.py:3: SettingWithCopyWarning: \n",
      "A value is trying to be set on a copy of a slice from a DataFrame.\n",
      "Try using .loc[row_indexer,col_indexer] = value instead\n",
      "\n",
      "See the caveats in the documentation: http://pandas.pydata.org/pandas-docs/stable/user_guide/indexing.html#returning-a-view-versus-a-copy\n",
      "  This is separate from the ipykernel package so we can avoid doing imports until\n",
      "/Users/jts/opt/anaconda3/lib/python3.7/site-packages/ipykernel_launcher.py:4: SettingWithCopyWarning: \n",
      "A value is trying to be set on a copy of a slice from a DataFrame.\n",
      "Try using .loc[row_indexer,col_indexer] = value instead\n",
      "\n",
      "See the caveats in the documentation: http://pandas.pydata.org/pandas-docs/stable/user_guide/indexing.html#returning-a-view-versus-a-copy\n",
      "  after removing the cwd from sys.path.\n",
      "/Users/jts/opt/anaconda3/lib/python3.7/site-packages/ipykernel_launcher.py:5: SettingWithCopyWarning: \n",
      "A value is trying to be set on a copy of a slice from a DataFrame.\n",
      "Try using .loc[row_indexer,col_indexer] = value instead\n",
      "\n",
      "See the caveats in the documentation: http://pandas.pydata.org/pandas-docs/stable/user_guide/indexing.html#returning-a-view-versus-a-copy\n",
      "  \"\"\"\n",
      "/Users/jts/opt/anaconda3/lib/python3.7/site-packages/ipykernel_launcher.py:6: SettingWithCopyWarning: \n",
      "A value is trying to be set on a copy of a slice from a DataFrame.\n",
      "Try using .loc[row_indexer,col_indexer] = value instead\n",
      "\n",
      "See the caveats in the documentation: http://pandas.pydata.org/pandas-docs/stable/user_guide/indexing.html#returning-a-view-versus-a-copy\n",
      "  \n",
      "/Users/jts/opt/anaconda3/lib/python3.7/site-packages/ipykernel_launcher.py:7: SettingWithCopyWarning: \n",
      "A value is trying to be set on a copy of a slice from a DataFrame.\n",
      "Try using .loc[row_indexer,col_indexer] = value instead\n",
      "\n",
      "See the caveats in the documentation: http://pandas.pydata.org/pandas-docs/stable/user_guide/indexing.html#returning-a-view-versus-a-copy\n",
      "  import sys\n",
      "/Users/jts/opt/anaconda3/lib/python3.7/site-packages/ipykernel_launcher.py:8: SettingWithCopyWarning: \n",
      "A value is trying to be set on a copy of a slice from a DataFrame.\n",
      "Try using .loc[row_indexer,col_indexer] = value instead\n",
      "\n",
      "See the caveats in the documentation: http://pandas.pydata.org/pandas-docs/stable/user_guide/indexing.html#returning-a-view-versus-a-copy\n",
      "  \n",
      "/Users/jts/opt/anaconda3/lib/python3.7/site-packages/ipykernel_launcher.py:9: SettingWithCopyWarning: \n",
      "A value is trying to be set on a copy of a slice from a DataFrame.\n",
      "Try using .loc[row_indexer,col_indexer] = value instead\n",
      "\n",
      "See the caveats in the documentation: http://pandas.pydata.org/pandas-docs/stable/user_guide/indexing.html#returning-a-view-versus-a-copy\n",
      "  if __name__ == '__main__':\n",
      "/Users/jts/opt/anaconda3/lib/python3.7/site-packages/ipykernel_launcher.py:13: SettingWithCopyWarning: \n",
      "A value is trying to be set on a copy of a slice from a DataFrame.\n",
      "Try using .loc[row_indexer,col_indexer] = value instead\n",
      "\n",
      "See the caveats in the documentation: http://pandas.pydata.org/pandas-docs/stable/user_guide/indexing.html#returning-a-view-versus-a-copy\n",
      "  del sys.path[0]\n"
     ]
    },
    {
     "data": {
      "image/png": "[encoded data removed]",
      "text/plain": [
       "<Figure size 432x360 with 1 Axes>"
      ]
     },
     "metadata": {
      "needs_background": "light"
     },
     "output_type": "display_data"
    }
   ],
   "source": [
    "avg = trophic['Tr_AA']\n",
    "df = ndata[[\"Sample ID\", 'Sample ID2', 'Year CE','Glu', 'Asp', 'Ala', 'Ile', 'Leu', 'Pro', 'Val', 'Phe', 'Ser', 'Gly']]\n",
    "df['norm-Glu'] = np.absolute(df['Glu'] - avg)\n",
    "df['norm-Asp'] = np.absolute(df['Asp'] - avg)\n",
    "df['norm-Ala'] = np.absolute(df['Ala'] - avg)\n",
    "df['norm-Ile'] = np.absolute(df['Ile'] - avg)\n",
    "df['norm-Leu'] = np.absolute(df['Leu'] - avg)\n",
    "df['norm-Pro'] = np.absolute(df['Pro'] - avg)\n",
    "df['norm-Val'] = np.absolute(df['Val'] - avg)\n",
    "\n",
    "col = df[['norm-Glu', 'norm-Asp', 'norm-Ala', 'norm-Ile', 'norm-Leu', 'norm-Pro', 'norm-Val']]\n",
    "tr_sum = col.sum(axis=1)\n",
    "source['SumV'] = tr_sum/7\n",
    "\n",
    "n_jack = source[source['Sample ID2']=='Jacksonville-4907']\n",
    "n_jack2 = source[source['Sample ID2']=='Jacksonville-4684']\n",
    "n_sav = source[source['Sample ID2']=='Savannah Banks-4902']\n",
    "markersize = 6\n",
    "linewidth = 0.5\n",
    "\n",
    "fig = plt.figure(figsize=(6,5))\n",
    "ax = fig.add_subplot(111)\n",
    "ax.set_xlabel(\"Year CE\")\n",
    "ax.set_ylabel('SumV')\n",
    "\n",
    "plt.plot('Year CE', 'SumV', data = n_jack, label = \"Jacksonville-4907-BC1\", marker = \"D\", linewidth = linewidth, linestyle = \"--\", color = \"#2c7fb8\", markeredgecolor = \"k\", markersize = markersize)\n",
    "plt.plot('Year CE', 'SumV', data = n_jack2, label = \"Jacksonville-4684-BC1\", marker = \"s\", linewidth = linewidth, linestyle = \"--\", color = \"#41b6c4\", markeredgecolor = \"k\", markersize = markersize)\n",
    "plt.plot('Year CE', 'SumV', data = n_sav, label = \"Savannah-4902-BC1\", marker = \"^\", linewidth = linewidth, linestyle = \"--\", color = \"#a1dab4\", markeredgecolor = \"k\", markersize = markersize)\n",
    "\n",
    "ax.tick_params(direction='in', which = 'both')\n",
    "ax.xaxis.set_minor_locator(MultipleLocator(250))\n",
    "ax.yaxis.set_minor_locator(MultipleLocator(1))"
   ]
  },
  {
   "cell_type": "code",
   "execution_count": null,
   "metadata": {},
   "outputs": [],
   "source": []
  }
 ],
 "metadata": {
  "kernelspec": {
   "display_name": "Python 3",
   "language": "python",
   "name": "python3"
  },
  "language_info": {
   "codemirror_mode": {
    "name": "ipython",
    "version": 3
   },
   "file_extension": ".py",
   "mimetype": "text/x-python",
   "name": "python",
   "nbconvert_exporter": "python",
   "pygments_lexer": "ipython3",
   "version": "3.7.4"
  }
 },
 "nbformat": 4,
 "nbformat_minor": 2
}
