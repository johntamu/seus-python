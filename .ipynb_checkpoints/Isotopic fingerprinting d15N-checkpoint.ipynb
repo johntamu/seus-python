{
 "cells": [
  {
   "cell_type": "markdown",
   "metadata": {},
   "source": [
    "## Isotopic Fingerprinting with d15N-AA data"
   ]
  },
  {
   "cell_type": "code",
   "execution_count": 228,
   "metadata": {},
   "outputs": [],
   "source": [
    "import pandas as pd \n",
    "import numpy as np\n",
    "import matplotlib.pyplot as plt\n",
    "from sklearn.decomposition import PCA\n",
    "from sklearn.preprocessing import StandardScaler\n",
    "%matplotlib inline"
   ]
  },
  {
   "cell_type": "markdown",
   "metadata": {},
   "source": [
    "Important to think about the question. Originally I was including data from Mompean et al (2016) but I did not do that data and I'm not sure if including it will lead me to where I want to go. Maybe just include d15N-AA data from different deep-sea corals through time and see how they compare?"
   ]
  },
  {
   "cell_type": "code",
   "execution_count": 229,
   "metadata": {
    "scrolled": false
   },
   "outputs": [
    {
     "name": "stdout",
     "output_type": "stream",
     "text": [
      "    index        Sample ID               Group    Ala    Asx    Glx    Ile  \\\n",
      "0       0   sav-4902-bc1_2  Leiopathes-ancient  16.14  13.56  14.26  20.67   \n",
      "1       1   sav-4902-bc1_7  Leiopathes-ancient  20.76  18.95  14.16  24.40   \n",
      "2       2  sav-4902-bc1_15  Leiopathes-ancient  18.60  14.35  17.29  23.82   \n",
      "3       3  sav-4902-bc1_33  Leiopathes-ancient  20.64  19.54  16.07  26.18   \n",
      "4       4  sav-4902-bc1_61  Leiopathes-ancient  21.57  18.74  16.09  23.82   \n",
      "..    ...              ...                 ...    ...    ...    ...    ...   \n",
      "67     69         T1100-A4         Isidella-A4  21.30  17.40  20.10  20.90   \n",
      "68     70         T1100-A4         Isidella-A4  20.80  17.20  20.30  21.50   \n",
      "69     71         T1100-A4         Isidella-A4  22.60  18.60  21.20  23.10   \n",
      "70     72         T1100-A4         Isidella-A4  21.70  17.90  20.50  21.20   \n",
      "71     73         T1100-A4         Isidella-A4  22.60  18.70  19.60  21.60   \n",
      "\n",
      "      Leu    Pro    Val    Phe    Gly    Ser  \n",
      "0   19.28  28.84  20.57   8.43  10.39  17.45  \n",
      "1   23.31  32.51  20.93   7.32  11.21  11.75  \n",
      "2   22.69  31.37  22.85  11.00  11.60  13.89  \n",
      "3   25.46  33.94  22.18  12.67  11.95  10.07  \n",
      "4   26.26  34.11  22.05  10.99  11.06  11.75  \n",
      "..    ...    ...    ...    ...    ...    ...  \n",
      "67  20.30  21.50  22.70  10.40  16.30  15.20  \n",
      "68  20.00  21.70  23.20   9.40  15.10  14.20  \n",
      "69  21.00  22.80  23.20  12.10  16.90  15.20  \n",
      "70  20.90  21.90  23.40  11.30  16.40  14.50  \n",
      "71  19.70  22.70  22.20  10.90  17.00  14.10  \n",
      "\n",
      "[72 rows x 13 columns]\n"
     ]
    },
    {
     "data": {
      "text/plain": [
       "(72, 13)"
      ]
     },
     "execution_count": 229,
     "metadata": {},
     "output_type": "execute_result"
    }
   ],
   "source": [
    "dataset = pd.read_csv('~/Documents/GitHub/data/schiff global_ncsiaa 02-06-2019.csv')\n",
    "dataset = dataset[['Sample ID','Group','Ala','Asx','Glx','Ile','Leu','Pro','Val','Phe','Gly','Ser']]\n",
    "# groups = ['POM']\n",
    "# dataset = dataset[~dataset.Group.isin(groups)] # Drop unwanted groups\n",
    "dataset = dataset.dropna() # Drop rows with NaN\n",
    "dataset = dataset.reset_index()\n",
    "\n",
    "print(dataset)\n",
    "dataset.shape"
   ]
  },
  {
   "cell_type": "code",
   "execution_count": 230,
   "metadata": {
    "scrolled": true
   },
   "outputs": [],
   "source": [
    "traa = ['Ala','Asx','Glx','Ile','Leu','Pro','Val']\n",
    "srcaa = ['Phe', 'Gly', 'Ser']\n",
    "aa = traa + srcaa\n",
    "features = srcaa\n",
    "\n",
    "# Separating out the features\n",
    "x = dataset.loc[:, features].values\n",
    "xmean = x.mean(axis=1, keepdims = True) # Keep shape (72,1) instead of (72,)\n",
    "x = x - xmean # Normalize to the mean of each row\n",
    "# Separating out the target\n",
    "y = dataset.loc[:,['Group']].values\n",
    "# Standardizing the features\n",
    "x = StandardScaler().fit_transform(x)"
   ]
  },
  {
   "cell_type": "code",
   "execution_count": 231,
   "metadata": {},
   "outputs": [],
   "source": [
    "pca = PCA(n_components=2)\n",
    "principalComponents = pca.fit_transform(x)\n",
    "principalDf = pd.DataFrame(data = principalComponents, \n",
    "                           columns = ['principal component 1', 'principal component 2'])"
   ]
  },
  {
   "cell_type": "code",
   "execution_count": 232,
   "metadata": {},
   "outputs": [
    {
     "data": {
      "text/html": [
       "<div>\n",
       "<style scoped>\n",
       "    .dataframe tbody tr th:only-of-type {\n",
       "        vertical-align: middle;\n",
       "    }\n",
       "\n",
       "    .dataframe tbody tr th {\n",
       "        vertical-align: top;\n",
       "    }\n",
       "\n",
       "    .dataframe thead th {\n",
       "        text-align: right;\n",
       "    }\n",
       "</style>\n",
       "<table border=\"1\" class=\"dataframe\">\n",
       "  <thead>\n",
       "    <tr style=\"text-align: right;\">\n",
       "      <th></th>\n",
       "      <th>principal component 1</th>\n",
       "      <th>principal component 2</th>\n",
       "    </tr>\n",
       "  </thead>\n",
       "  <tbody>\n",
       "    <tr>\n",
       "      <td>0</td>\n",
       "      <td>1.127017</td>\n",
       "      <td>3.292512</td>\n",
       "    </tr>\n",
       "    <tr>\n",
       "      <td>1</td>\n",
       "      <td>0.240701</td>\n",
       "      <td>0.536911</td>\n",
       "    </tr>\n",
       "    <tr>\n",
       "      <td>2</td>\n",
       "      <td>1.242966</td>\n",
       "      <td>0.468809</td>\n",
       "    </tr>\n",
       "    <tr>\n",
       "      <td>3</td>\n",
       "      <td>1.380472</td>\n",
       "      <td>-2.037903</td>\n",
       "    </tr>\n",
       "    <tr>\n",
       "      <td>4</td>\n",
       "      <td>1.302213</td>\n",
       "      <td>-0.499854</td>\n",
       "    </tr>\n",
       "    <tr>\n",
       "      <td>...</td>\n",
       "      <td>...</td>\n",
       "      <td>...</td>\n",
       "    </tr>\n",
       "    <tr>\n",
       "      <td>67</td>\n",
       "      <td>-0.402629</td>\n",
       "      <td>0.288015</td>\n",
       "    </tr>\n",
       "    <tr>\n",
       "      <td>68</td>\n",
       "      <td>-0.336617</td>\n",
       "      <td>0.331516</td>\n",
       "    </tr>\n",
       "    <tr>\n",
       "      <td>69</td>\n",
       "      <td>-0.131892</td>\n",
       "      <td>-0.337846</td>\n",
       "    </tr>\n",
       "    <tr>\n",
       "      <td>70</td>\n",
       "      <td>-0.225479</td>\n",
       "      <td>-0.352208</td>\n",
       "    </tr>\n",
       "    <tr>\n",
       "      <td>71</td>\n",
       "      <td>-0.555542</td>\n",
       "      <td>-0.569714</td>\n",
       "    </tr>\n",
       "  </tbody>\n",
       "</table>\n",
       "<p>72 rows × 2 columns</p>\n",
       "</div>"
      ],
      "text/plain": [
       "    principal component 1  principal component 2\n",
       "0                1.127017               3.292512\n",
       "1                0.240701               0.536911\n",
       "2                1.242966               0.468809\n",
       "3                1.380472              -2.037903\n",
       "4                1.302213              -0.499854\n",
       "..                    ...                    ...\n",
       "67              -0.402629               0.288015\n",
       "68              -0.336617               0.331516\n",
       "69              -0.131892              -0.337846\n",
       "70              -0.225479              -0.352208\n",
       "71              -0.555542              -0.569714\n",
       "\n",
       "[72 rows x 2 columns]"
      ]
     },
     "execution_count": 232,
     "metadata": {},
     "output_type": "execute_result"
    }
   ],
   "source": [
    "principalDf"
   ]
  },
  {
   "cell_type": "code",
   "execution_count": 233,
   "metadata": {},
   "outputs": [
    {
     "data": {
      "text/html": [
       "<div>\n",
       "<style scoped>\n",
       "    .dataframe tbody tr th:only-of-type {\n",
       "        vertical-align: middle;\n",
       "    }\n",
       "\n",
       "    .dataframe tbody tr th {\n",
       "        vertical-align: top;\n",
       "    }\n",
       "\n",
       "    .dataframe thead th {\n",
       "        text-align: right;\n",
       "    }\n",
       "</style>\n",
       "<table border=\"1\" class=\"dataframe\">\n",
       "  <thead>\n",
       "    <tr style=\"text-align: right;\">\n",
       "      <th></th>\n",
       "      <th>Group</th>\n",
       "    </tr>\n",
       "  </thead>\n",
       "  <tbody>\n",
       "    <tr>\n",
       "      <td>0</td>\n",
       "      <td>Leiopathes-ancient</td>\n",
       "    </tr>\n",
       "    <tr>\n",
       "      <td>1</td>\n",
       "      <td>Leiopathes-ancient</td>\n",
       "    </tr>\n",
       "    <tr>\n",
       "      <td>2</td>\n",
       "      <td>Leiopathes-ancient</td>\n",
       "    </tr>\n",
       "    <tr>\n",
       "      <td>3</td>\n",
       "      <td>Leiopathes-ancient</td>\n",
       "    </tr>\n",
       "    <tr>\n",
       "      <td>4</td>\n",
       "      <td>Leiopathes-ancient</td>\n",
       "    </tr>\n",
       "    <tr>\n",
       "      <td>...</td>\n",
       "      <td>...</td>\n",
       "    </tr>\n",
       "    <tr>\n",
       "      <td>67</td>\n",
       "      <td>Isidella-A4</td>\n",
       "    </tr>\n",
       "    <tr>\n",
       "      <td>68</td>\n",
       "      <td>Isidella-A4</td>\n",
       "    </tr>\n",
       "    <tr>\n",
       "      <td>69</td>\n",
       "      <td>Isidella-A4</td>\n",
       "    </tr>\n",
       "    <tr>\n",
       "      <td>70</td>\n",
       "      <td>Isidella-A4</td>\n",
       "    </tr>\n",
       "    <tr>\n",
       "      <td>71</td>\n",
       "      <td>Isidella-A4</td>\n",
       "    </tr>\n",
       "  </tbody>\n",
       "</table>\n",
       "<p>72 rows × 1 columns</p>\n",
       "</div>"
      ],
      "text/plain": [
       "                 Group\n",
       "0   Leiopathes-ancient\n",
       "1   Leiopathes-ancient\n",
       "2   Leiopathes-ancient\n",
       "3   Leiopathes-ancient\n",
       "4   Leiopathes-ancient\n",
       "..                 ...\n",
       "67         Isidella-A4\n",
       "68         Isidella-A4\n",
       "69         Isidella-A4\n",
       "70         Isidella-A4\n",
       "71         Isidella-A4\n",
       "\n",
       "[72 rows x 1 columns]"
      ]
     },
     "execution_count": 233,
     "metadata": {},
     "output_type": "execute_result"
    }
   ],
   "source": [
    "dataset[['Group']]"
   ]
  },
  {
   "cell_type": "code",
   "execution_count": 234,
   "metadata": {},
   "outputs": [
    {
     "name": "stdout",
     "output_type": "stream",
     "text": [
      "    principal component 1  principal component 2               Group\n",
      "0                1.127017               3.292512  Leiopathes-ancient\n",
      "1                0.240701               0.536911  Leiopathes-ancient\n",
      "2                1.242966               0.468809  Leiopathes-ancient\n",
      "3                1.380472              -2.037903  Leiopathes-ancient\n",
      "4                1.302213              -0.499854  Leiopathes-ancient\n",
      "..                    ...                    ...                 ...\n",
      "67              -0.402629               0.288015         Isidella-A4\n",
      "68              -0.336617               0.331516         Isidella-A4\n",
      "69              -0.131892              -0.337846         Isidella-A4\n",
      "70              -0.225479              -0.352208         Isidella-A4\n",
      "71              -0.555542              -0.569714         Isidella-A4\n",
      "\n",
      "[72 rows x 3 columns]\n"
     ]
    },
    {
     "data": {
      "text/plain": [
       "array(['Leiopathes-ancient', 'Leiopathes-recent', 'Leiopathes-Disk7',\n",
       "       'Leiopathes-Disk1', 'POM', 'Isidella-A7', 'Isidella-A4'],\n",
       "      dtype=object)"
      ]
     },
     "execution_count": 234,
     "metadata": {},
     "output_type": "execute_result"
    }
   ],
   "source": [
    "finalDf = pd.concat([principalDf, dataset[['Group']]], axis = 1)\n",
    "print(finalDf)\n",
    "\n",
    "finalDf['Group'].unique()"
   ]
  },
  {
   "cell_type": "code",
   "execution_count": 235,
   "metadata": {},
   "outputs": [
    {
     "data": {
      "image/png": "[encoded data removed]",
      "text/plain": [
       "<Figure size 576x576 with 1 Axes>"
      ]
     },
     "metadata": {
      "needs_background": "light"
     },
     "output_type": "display_data"
    }
   ],
   "source": [
    "# Visualize 2D\n",
    "fig = plt.figure(figsize = (8,8))\n",
    "ax = fig.add_subplot(1,1,1) \n",
    "ax.set_xlabel('Principal Component 1', fontsize = 15)\n",
    "ax.set_ylabel('Principal Component 2', fontsize = 15)\n",
    "ax.set_title('2 component PCA', fontsize = 20)\n",
    "targets = ['Leiopathes-ancient','Leiopathes-recent', 'Leiopathes-Disk1', 'Leiopathes-Disk7', 'POM']\n",
    "colors = [\"#999999\", \"#E69F00\", \"#56B4E9\", \"#009E73\", \"#F0E442\", \"#0072B2\", \"#D55E00\", \"#CC79A7\"]\n",
    "for target, color in zip(targets,colors):\n",
    "    indicesToKeep = finalDf['Group'] == target\n",
    "    ax.scatter(finalDf.loc[indicesToKeep, 'principal component 1']\n",
    "               , finalDf.loc[indicesToKeep, 'principal component 2']\n",
    "               , c = color\n",
    "               , s = 80,\n",
    "              linewidths=0.5,\n",
    "              edgecolors = 'k',\n",
    "              linestyle = 'None')\n",
    "    plt.grid('None')\n",
    "ax.legend(targets, frameon = False)\n",
    "ax.grid()"
   ]
  },
  {
   "cell_type": "code",
   "execution_count": 226,
   "metadata": {},
   "outputs": [
    {
     "data": {
      "text/plain": [
       "array([0.59592232, 0.40407768])"
      ]
     },
     "execution_count": 226,
     "metadata": {},
     "output_type": "execute_result"
    }
   ],
   "source": [
    "pca.explained_variance_ratio_"
   ]
  },
  {
   "cell_type": "code",
   "execution_count": null,
   "metadata": {},
   "outputs": [],
   "source": []
  }
 ],
 "metadata": {
  "kernelspec": {
   "display_name": "Python 3",
   "language": "python",
   "name": "python3"
  },
  "language_info": {
   "codemirror_mode": {
    "name": "ipython",
    "version": 3
   },
   "file_extension": ".py",
   "mimetype": "text/x-python",
   "name": "python",
   "nbconvert_exporter": "python",
   "pygments_lexer": "ipython3",
   "version": "3.7.3"
  }
 },
 "nbformat": 4,
 "nbformat_minor": 2
}
