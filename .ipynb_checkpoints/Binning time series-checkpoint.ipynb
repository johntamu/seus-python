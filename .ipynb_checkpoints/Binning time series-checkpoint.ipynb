{
 "cells": [
  {
   "cell_type": "code",
   "execution_count": 2,
   "metadata": {},
   "outputs": [],
   "source": [
    "# Load packages\n",
    "%matplotlib inline\n",
    "import matplotlib.pyplot as plt\n",
    "import matplotlib as mpl\n",
    "import matplotlib.ticker as ticker\n",
    "from matplotlib.ticker import (MultipleLocator, FormatStrFormatter,\n",
    "                               AutoMinorLocator)\n",
    "import numpy as np\n",
    "import pandas as pd\n",
    "pd.set_option('max_rows', 6)\n",
    "from sklearn.linear_model import LinearRegression\n",
    "import statsmodels.api as sm\n",
    "# import cmocean.cm as cmo\n",
    "import csv\n",
    "import statsmodels.api as sm\n",
    "from scipy import stats\n",
    "\n",
    "# mpl.rcParams['mathtext.fontset'] = 'cm'\n",
    "# mpl.rcParams['mathtext.rm'] = 'serif'\n",
    "\n",
    "x = \"Year CE\"\n",
    "n = r'$\\mathrm{\\delta}^{15}$N ['u\"\\u2030]\"\n",
    "c = r'$\\mathrm{\\delta}^{13}$C ['u\"\\u2030]\"\n",
    "deg = u'SST [\\u00B0C]'\n",
    "\n",
    "# Import data\n",
    "path1 = '~/Documents/GitHub/data/schiff_bulk_years_07-05-2020.csv'\n",
    "df = pd.read_csv(path1, comment = '#')\n",
    "df.rename(columns={\"d15n.vs.air\": \"d15n\", \"d13c.vs.vpdb\": \"d13c\", \"linear.ad\" : \"yrAD\", \n",
    "                   \"coral.id\" : \"coral\", \"sample.no.\" : \"sample\",\n",
    "                  \"secondary.ad\" : \"yrAD2\", \"distance..mm.\" : \"distance\"}, inplace = True)\n",
    "\n",
    "# Round yrAD column to make things easier\n",
    "df.yrAD = df.yrAD.round(0)\n",
    "\n",
    "# df_jack4684 = df[df.coral == 'jack-4684-bc-unk']\n",
    "# df_jack4686t1 = df[df.coral == 'jack-4686-bc-d1-t1']\n",
    "\n",
    "df_stet = df[df.coral == 'stet-4904-bc1-d2']\n",
    "df_jack4907 = df[df.coral == 'jack-4907-bc1-d3']\n",
    "df_jack_usgs = df[df.coral == 'jack-4907-bc1-d1']\n",
    "df_sav = df[df.coral == 'sav-4902-bc1-unk']\n",
    "df_jack4684 = df[df.coral == 'jack-4684-bc-unk']\n",
    "df_jack4686 = df[df.coral == 'jack-4686-bc1-d1-t1']\n",
    "df_jack4686_mill = df[df.coral == 'jack-4686-bc-d1-t1']"
   ]
  },
  {
   "cell_type": "markdown",
   "metadata": {},
   "source": [
    "# Binning time series\n",
    "This uses a binning function from the Python library Pyleoclim, which is being developed for paleoclimate analysis."
   ]
  },
  {
   "cell_type": "code",
   "execution_count": 4,
   "metadata": {},
   "outputs": [],
   "source": [
    "# Using a binning function from Python package Pyleoclim\n",
    "# Define the function\n",
    "\n",
    "import numpy as np\n",
    "import pandas as pd\n",
    "import warnings\n",
    "import copy\n",
    "from scipy import special\n",
    "import sys\n",
    "from scipy import signal\n",
    "\n",
    "def binvalues(x, y, bin_size=None, start=None, end=None):\n",
    "    \"\"\" Bin the values\n",
    "    Args:\n",
    "        x (array): the x-axis series.\n",
    "        y (array): the y-axis series.\n",
    "        bin_size (float): The size of the bins. Default is the average resolution\n",
    "        start (float): Where/when to start binning. Default is the minimum\n",
    "        end (float): When/where to stop binning. Defulat is the maximum\n",
    "    Returns:\n",
    "        binned_values - the binned output \\n\n",
    "        bins - the bins (centered on the median, i.e., the 100-200 bin is 150) \\n\n",
    "        n - number of data points in each bin \\n\n",
    "        error -  the standard error on the mean in each bin\n",
    "    \"\"\"\n",
    "\n",
    "    # Make sure x and y are numpy arrays\n",
    "    x = np.array(x, dtype='float64')\n",
    "    y = np.array(y, dtype='float64')\n",
    "\n",
    "    # Get the bin_size if not available\n",
    "    if bin_size is None:\n",
    "        bin_size = np.nanmean(np.diff(x))\n",
    "\n",
    "    # Get the start/end if not given\n",
    "    if start is None:\n",
    "        start = np.nanmin(x)\n",
    "    if end is None:\n",
    "        end = np.nanmax(x)\n",
    "\n",
    "    # Set the bin medians\n",
    "    bins = np.arange(start+bin_size/2, end + bin_size/2, bin_size)\n",
    "\n",
    "    # Perform the calculation\n",
    "    binned_values = []\n",
    "    n = []\n",
    "    error = []\n",
    "    for val in np.nditer(bins):\n",
    "        idx = [idx for idx, c in enumerate(x) if c >= (val-bin_size/2) and c < (val+bin_size/2)]\n",
    "        if y[idx].size == 0:\n",
    "            binned_values.append(np.nan)\n",
    "            n.append(np.nan)\n",
    "            error.append(np.nan)\n",
    "        else:\n",
    "            binned_values.append(np.nanmean(y[idx]))\n",
    "            n.append(y[idx].size)\n",
    "            error.append(np.nanstd(y[idx]))\n",
    "\n",
    "    return bins, binned_values, n, error"
   ]
  },
  {
   "cell_type": "code",
   "execution_count": 25,
   "metadata": {},
   "outputs": [
    {
     "name": "stderr",
     "output_type": "stream",
     "text": [
      "/Users/jts/opt/anaconda3/lib/python3.7/site-packages/ipykernel_launcher.py:55: RuntimeWarning: Mean of empty slice\n"
     ]
    }
   ],
   "source": [
    "# -------------- NITROGEN ---------------- #\n",
    "jackbin = 80\n",
    "savbin = 25\n",
    "stetbin = 25\n",
    "jack4684bin = 25\n",
    "jack4686bin = 25\n",
    "\n",
    "# Jacksonville-4684 BC1\n",
    "newdf = binvalues(df_jack4684[\"yrAD\"],df_jack4684[\"d15n\"], bin_size = jack4684bin)\n",
    "newdf = np.asarray(newdf)\n",
    "\n",
    "newdf = np.transpose(newdf)\n",
    "newdf.shape\n",
    "\n",
    "data=newdf\n",
    "jack4684_binned = pd.DataFrame({'yrAD': data[:, 0], 'd15n': data[:, 1], 'Column3': data[:, 2], 'Column4': data[:, 3]})\n",
    "jack4684_binned['upper'] = jack4684_binned['d15n'] + jack4684_binned['Column4']\n",
    "jack4684_binned['lower'] = jack4684_binned['d15n'] - jack4684_binned['Column4']\n",
    "\n",
    "# Jack4686\n",
    "newdf = binvalues(df_jack4686[\"yrAD\"],df_jack4686[\"d15n\"], bin_size = jack4686bin)\n",
    "newdf = np.asarray(newdf)\n",
    "\n",
    "newdf = np.transpose(newdf)\n",
    "newdf.shape\n",
    "\n",
    "data=newdf\n",
    "jack4686_binned = pd.DataFrame({'yrAD': data[:, 0], 'd15n': data[:, 1], 'Column3': data[:, 2], 'Column4': data[:, 3]})\n",
    "jack4686_binned['upper'] = jack4686_binned['d15n'] + jack4686_binned['Column4']\n",
    "jack4686_binned['lower'] = jack4686_binned['d15n'] - jack4686_binned['Column4']\n",
    "\n",
    "# Jacksonville-4907 BC1\n",
    "newdf = binvalues(df_jack4907[\"yrAD\"],df_jack4907[\"d15n\"], bin_size = jackbin)\n",
    "newdf = np.asarray(newdf)\n",
    "\n",
    "newdf = np.transpose(newdf)\n",
    "newdf.shape\n",
    "\n",
    "data=newdf\n",
    "jack4907_binned = pd.DataFrame({'yrAD': data[:, 0], 'd15n': data[:, 1], 'Column3': data[:, 2], 'Column4': data[:, 3]})\n",
    "jack4907_binned['upper'] = jack4907_binned['d15n'] + jack4907_binned['Column4']\n",
    "jack4907_binned['lower'] = jack4907_binned['d15n'] - jack4907_binned['Column4']\n",
    "jack4907_binned = jack4907_binned[:-1] # remove last row if not very many Ns created\n",
    "\n",
    "# Savannah-4902 BC1\n",
    "newdf = binvalues(df_sav['yrAD'],df_sav['d15n'], bin_size = savbin)\n",
    "newdf = np.asarray(newdf)\n",
    "\n",
    "newdf = np.transpose(newdf)\n",
    "newdf.shape\n",
    "data=newdf\n",
    "sav_binned = pd.DataFrame({'yrAD': data[:, 0], 'd15n': data[:, 1], 'Column3': data[:, 2], 'Column4': data[:, 3]})\n",
    "sav_binned['upper'] = sav_binned['d15n'] + sav_binned['Column4']\n",
    "sav_binned['lower'] = sav_binned['d15n'] - sav_binned['Column4']\n",
    "\n",
    "# Binning the Stetson-4904 BC1 data\n",
    "newdf = binvalues(df_stet['yrAD'],df_stet['d15n'], bin_size = stetbin)\n",
    "newdf = np.asarray(newdf)\n",
    "\n",
    "newdf = np.transpose(newdf)\n",
    "newdf.shape\n",
    "data=newdf\n",
    "stet_binned = pd.DataFrame({'yrAD': data[:, 0], 'd15n': data[:, 1], 'Column3': data[:, 2], 'Column4': data[:, 3]})\n",
    "\n",
    "stet_binned['upper'] = stet_binned['d15n'] + stet_binned['Column4']\n",
    "stet_binned['lower'] = stet_binned['d15n'] - stet_binned['Column4']\n",
    "\n",
    "# -------------- CARBON ---------------- # \n",
    "\n"
   ]
  },
  {
   "cell_type": "code",
   "execution_count": 26,
   "metadata": {},
   "outputs": [
    {
     "data": {
      "text/plain": [
       "<matplotlib.collections.PolyCollection at 0x1c243e1550>"
      ]
     },
     "execution_count": 26,
     "metadata": {},
     "output_type": "execute_result"
    },
    {
     "data": {
      "image/png": "[encoded data removed]",
      "text/plain": [
       "<Figure size 576x432 with 1 Axes>"
      ]
     },
     "metadata": {
      "needs_background": "light"
     },
     "output_type": "display_data"
    }
   ],
   "source": [
    "mpl.rc('font',family='Helvetica')\n",
    "\n",
    "fig, ax = plt.subplots(figsize = (8,6))\n",
    "x = jack4907_binned['yrAD']\n",
    "y1 = jack4907_binned['upper']\n",
    "y2 = jack4907_binned['lower']\n",
    "# ax.plot('yrAD', 'd15n', data=df_jack4907, color = '#0072B2', linewidth = 0.5, alpha = 0.25, label = '')\n",
    "ax.plot('yrAD', 'd15n', data=jack4907_binned, color='#0072B2', linewidth = 2, label = 'Jacksonville-4907-BC1 (continental slope)')\n",
    "ax.fill_between(x, y1, y2, facecolor = '#0072B2', interpolate = True, alpha = 0.25)"
   ]
  },
  {
   "cell_type": "code",
   "execution_count": 23,
   "metadata": {},
   "outputs": [
    {
     "name": "stdout",
     "output_type": "stream",
     "text": [
      "[626.]\n",
      "[63.]\n",
      "[-214.]\n"
     ]
    }
   ],
   "source": [
    "print(df_jack4907.loc[df_jack4907['sample']==23]['yrAD'].values)\n",
    "print(df_jack4907.loc[df_jack4907['sample']==56]['yrAD'].values)\n",
    "print(df_jack4907.loc[df_jack4907['sample']==134]['yrAD'].values)"
   ]
  },
  {
   "cell_type": "code",
   "execution_count": 22,
   "metadata": {},
   "outputs": [
    {
     "data": {
      "text/plain": [
       "array([626.])"
      ]
     },
     "execution_count": 22,
     "metadata": {},
     "output_type": "execute_result"
    }
   ],
   "source": [
    "df_jack4907.loc[df_jack4907['sample']==23]['yrAD'].values"
   ]
  },
  {
   "cell_type": "code",
   "execution_count": null,
   "metadata": {},
   "outputs": [],
   "source": []
  }
 ],
 "metadata": {
  "kernelspec": {
   "display_name": "Python 3",
   "language": "python",
   "name": "python3"
  },
  "language_info": {
   "codemirror_mode": {
    "name": "ipython",
    "version": 3
   },
   "file_extension": ".py",
   "mimetype": "text/x-python",
   "name": "python",
   "nbconvert_exporter": "python",
   "pygments_lexer": "ipython3",
   "version": "3.7.4"
  }
 },
 "nbformat": 4,
 "nbformat_minor": 2
}
