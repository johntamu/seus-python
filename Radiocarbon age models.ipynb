{
 "cells": [
  {
   "cell_type": "markdown",
   "metadata": {},
   "source": [
    "## Radiocarbon age models and linear regressions"
   ]
  },
  {
   "cell_type": "code",
   "execution_count": 1,
   "metadata": {},
   "outputs": [],
   "source": [
    "# Load packages\n",
    "%matplotlib inline\n",
    "import matplotlib.pyplot as plt\n",
    "import matplotlib as mpl\n",
    "import numpy as np\n",
    "import pandas as pd\n",
    "pd.set_option('max_rows', 6)\n",
    "from sklearn.linear_model import LinearRegression\n",
    "import statsmodels.api as sm\n",
    "import cmocean.cm as cmo\n",
    "import csv\n",
    "import statsmodels.api as sm\n",
    "from scipy import stats\n",
    "\n",
    "# mpl.rcParams['mathtext.fontset'] = 'cm'\n",
    "# mpl.rcParams['mathtext.rm'] = 'serif'"
   ]
  },
  {
   "cell_type": "code",
   "execution_count": 8,
   "metadata": {},
   "outputs": [
    {
     "data": {
      "text/html": [
       "<div>\n",
       "<style scoped>\n",
       "    .dataframe tbody tr th:only-of-type {\n",
       "        vertical-align: middle;\n",
       "    }\n",
       "\n",
       "    .dataframe tbody tr th {\n",
       "        vertical-align: top;\n",
       "    }\n",
       "\n",
       "    .dataframe thead th {\n",
       "        text-align: right;\n",
       "    }\n",
       "</style>\n",
       "<table border=\"1\" class=\"dataframe\">\n",
       "  <thead>\n",
       "    <tr style=\"text-align: right;\">\n",
       "      <th></th>\n",
       "      <th>Coral</th>\n",
       "      <th>ID 1</th>\n",
       "      <th>ID 2</th>\n",
       "      <th>Sample</th>\n",
       "      <th>Distance microns</th>\n",
       "      <th>Fraction modern</th>\n",
       "      <th>error</th>\n",
       "      <th>D14C</th>\n",
       "      <th>D14C.1</th>\n",
       "      <th>d13C</th>\n",
       "      <th>14C Age</th>\n",
       "      <th>error.1</th>\n",
       "      <th>Year analyzed</th>\n",
       "    </tr>\n",
       "  </thead>\n",
       "  <tbody>\n",
       "    <tr>\n",
       "      <td>0</td>\n",
       "      <td>jack-4907-bc1-d1</td>\n",
       "      <td>NaN</td>\n",
       "      <td>Jacksonville Deep Water Coral 1105LEJK4907_17</td>\n",
       "      <td>2</td>\n",
       "      <td>95</td>\n",
       "      <td>0.8800</td>\n",
       "      <td>0.0041</td>\n",
       "      <td>-118.7</td>\n",
       "      <td>-124.6</td>\n",
       "      <td>-14.8</td>\n",
       "      <td>1010</td>\n",
       "      <td>35.0</td>\n",
       "      <td>2006</td>\n",
       "    </tr>\n",
       "    <tr>\n",
       "      <td>1</td>\n",
       "      <td>jack-4907-bc1-d1</td>\n",
       "      <td>NaN</td>\n",
       "      <td>Jacksonville Deep Water Coral 1105LEJK4907_18</td>\n",
       "      <td>7</td>\n",
       "      <td>236</td>\n",
       "      <td>0.8600</td>\n",
       "      <td>0.0032</td>\n",
       "      <td>-138.1</td>\n",
       "      <td>-143.9</td>\n",
       "      <td>-15.2</td>\n",
       "      <td>1190</td>\n",
       "      <td>30.0</td>\n",
       "      <td>2006</td>\n",
       "    </tr>\n",
       "    <tr>\n",
       "      <td>2</td>\n",
       "      <td>jack-4907-bc1-d1</td>\n",
       "      <td>NaN</td>\n",
       "      <td>Jacksonville Deep Water Coral 1105LEJK4907_1</td>\n",
       "      <td>11</td>\n",
       "      <td>512</td>\n",
       "      <td>0.8000</td>\n",
       "      <td>0.0028</td>\n",
       "      <td>-203.5</td>\n",
       "      <td>-208.9</td>\n",
       "      <td>-15.0</td>\n",
       "      <td>1830</td>\n",
       "      <td>30.0</td>\n",
       "      <td>2006</td>\n",
       "    </tr>\n",
       "    <tr>\n",
       "      <td>...</td>\n",
       "      <td>...</td>\n",
       "      <td>...</td>\n",
       "      <td>...</td>\n",
       "      <td>...</td>\n",
       "      <td>...</td>\n",
       "      <td>...</td>\n",
       "      <td>...</td>\n",
       "      <td>...</td>\n",
       "      <td>...</td>\n",
       "      <td>...</td>\n",
       "      <td>...</td>\n",
       "      <td>...</td>\n",
       "      <td>...</td>\n",
       "    </tr>\n",
       "    <tr>\n",
       "      <td>95</td>\n",
       "      <td>jack-4686-bc1-t1</td>\n",
       "      <td>NaN</td>\n",
       "      <td>NaN</td>\n",
       "      <td>83,84,85</td>\n",
       "      <td>4080</td>\n",
       "      <td>0.9085</td>\n",
       "      <td>0.0019</td>\n",
       "      <td>-91.5</td>\n",
       "      <td>NaN</td>\n",
       "      <td>NaN</td>\n",
       "      <td>770</td>\n",
       "      <td>15.0</td>\n",
       "      <td>2020</td>\n",
       "    </tr>\n",
       "    <tr>\n",
       "      <td>96</td>\n",
       "      <td>jack-4686-bc1-t1</td>\n",
       "      <td>NaN</td>\n",
       "      <td>NaN</td>\n",
       "      <td>106,107,108</td>\n",
       "      <td>5184</td>\n",
       "      <td>0.8862</td>\n",
       "      <td>0.0018</td>\n",
       "      <td>-113.8</td>\n",
       "      <td>NaN</td>\n",
       "      <td>NaN</td>\n",
       "      <td>970</td>\n",
       "      <td>15.0</td>\n",
       "      <td>2020</td>\n",
       "    </tr>\n",
       "    <tr>\n",
       "      <td>97</td>\n",
       "      <td>jack-4686-bc1-t1</td>\n",
       "      <td>NaN</td>\n",
       "      <td>NaN</td>\n",
       "      <td>123,124,125</td>\n",
       "      <td>6000</td>\n",
       "      <td>0.8698</td>\n",
       "      <td>0.0017</td>\n",
       "      <td>-130.2</td>\n",
       "      <td>NaN</td>\n",
       "      <td>NaN</td>\n",
       "      <td>1,120</td>\n",
       "      <td>15.0</td>\n",
       "      <td>2020</td>\n",
       "    </tr>\n",
       "  </tbody>\n",
       "</table>\n",
       "<p>98 rows × 13 columns</p>\n",
       "</div>"
      ],
      "text/plain": [
       "               Coral ID 1                                            ID 2  \\\n",
       "0   jack-4907-bc1-d1  NaN   Jacksonville Deep Water Coral 1105LEJK4907_17   \n",
       "1   jack-4907-bc1-d1  NaN   Jacksonville Deep Water Coral 1105LEJK4907_18   \n",
       "2   jack-4907-bc1-d1  NaN    Jacksonville Deep Water Coral 1105LEJK4907_1   \n",
       "..               ...  ...                                             ...   \n",
       "95  jack-4686-bc1-t1  NaN                                             NaN   \n",
       "96  jack-4686-bc1-t1  NaN                                             NaN   \n",
       "97  jack-4686-bc1-t1  NaN                                             NaN   \n",
       "\n",
       "         Sample  Distance microns  Fraction modern   error   D14C  D14C.1  \\\n",
       "0             2                95           0.8800  0.0041 -118.7  -124.6   \n",
       "1             7               236           0.8600  0.0032 -138.1  -143.9   \n",
       "2            11               512           0.8000  0.0028 -203.5  -208.9   \n",
       "..          ...               ...              ...     ...    ...     ...   \n",
       "95     83,84,85              4080           0.9085  0.0019  -91.5     NaN   \n",
       "96  106,107,108              5184           0.8862  0.0018 -113.8     NaN   \n",
       "97  123,124,125              6000           0.8698  0.0017 -130.2     NaN   \n",
       "\n",
       "    d13C 14C Age  error.1  Year analyzed  \n",
       "0  -14.8    1010     35.0           2006  \n",
       "1  -15.2    1190     30.0           2006  \n",
       "2  -15.0    1830     30.0           2006  \n",
       "..   ...     ...      ...            ...  \n",
       "95   NaN     770     15.0           2020  \n",
       "96   NaN     970     15.0           2020  \n",
       "97   NaN   1,120     15.0           2020  \n",
       "\n",
       "[98 rows x 13 columns]"
      ]
     },
     "execution_count": 8,
     "metadata": {},
     "output_type": "execute_result"
    }
   ],
   "source": [
    "# Import the radicoarbon data\n",
    "df = pd.read_csv('~/Documents/GitHub/data/schiff radiocarbon 06-10-2020.csv')\n",
    "stetson = df[df['Coral'] == 'stet-4904-bc1-d5']\n",
    "jack4684 = df[df['Coral'] == 'jack-4684-bc1']\n",
    "stetson_old = df[df['Coral'] == 'stet-4904-bc1']\n",
    "sav = df[df['Coral'] == 'sav-4902-bc1']\n",
    "jack4907 = df[df['Coral'] == 'jack-4907-bc1-d1']\n",
    "jack4686 = df[df['Coral'] == 'jack-4686-bc1-t1']\n",
    "\n",
    "df"
   ]
  },
  {
   "cell_type": "markdown",
   "metadata": {},
   "source": [
    "### Bomb spike figures."
   ]
  },
  {
   "cell_type": "code",
   "execution_count": 9,
   "metadata": {},
   "outputs": [
    {
     "data": {
      "image/png": "[encoded data removed]",
      "text/plain": [
       "<Figure size 864x288 with 4 Axes>"
      ]
     },
     "metadata": {
      "needs_background": "light"
     },
     "output_type": "display_data"
    }
   ],
   "source": [
    "fig, (ax1, ax2, ax3, ax4) = plt.subplots(1, 4, figsize = (12,4))\n",
    "ax1.plot('Distance microns', 'D14C', data=stetson_old, label = \"Stetson-4904 BC1\",marker = \"o\", color = 'k', markerfacecolor = \"white\", linewidth = 1)\n",
    "ax2.plot('Distance microns', 'D14C', data=stetson, label = \"Stetson-4904 BC1\",marker = \"o\", color = 'k', markerfacecolor = \"white\", linewidth = 1)\n",
    "ax3.plot('Distance microns', 'D14C', data=jack4684, label = \"Jacksonville-4684 BC1\", marker = \"s\", color = 'k', markerfacecolor = \"white\", linewidth = 1)\n",
    "ax4.plot('Distance microns', 'D14C', data=jack4686, label = \"Jacksonville-4686 BC1\", marker = \"s\", color = 'k', markerfacecolor = \"white\", linewidth = 1)\n",
    "\n",
    "\n",
    "ax1.set_ylabel(r'$\\mathrm{\\Delta}^{14}$C ['u\"\\u2030]\")\n",
    "ax1.set_xlabel('Distance from edge (microns)')\n",
    "ax2.set_xlabel('Distance from edge (microns)')\n",
    "ax3.set_xlabel('Distance from edge (microns)')\n",
    "ax4.set_xlabel('Distance from edge (microns)')\n",
    "\n",
    "ax1.tick_params(direction='in')\n",
    "ax2.tick_params(direction='in')\n",
    "ax3.tick_params(direction='in')\n",
    "ax4.tick_params(direction='in')\n",
    "\n",
    "ax1.legend(frameon=False, loc = 0)\n",
    "ax2.legend(frameon=False, loc = 0)\n",
    "ax3.legend(frameon=False, loc = 0)\n",
    "ax4.legend(frameon=False, loc = 0)\n",
    "\n",
    "plt.savefig('fig_d14c_results_recent.png', dpi = 300, bbox_inches = 'tight')"
   ]
  },
  {
   "cell_type": "code",
   "execution_count": 5,
   "metadata": {},
   "outputs": [
    {
     "data": {
      "text/plain": [
       "array(['jack-4907-bc1-d1', 'stet-4904-bc1', 'sav-4902-bc1',\n",
       "       'jack-4684-bc1', 'stet-4904-bc1-d5'], dtype=object)"
      ]
     },
     "execution_count": 5,
     "metadata": {},
     "output_type": "execute_result"
    }
   ],
   "source": [
    "df.Coral.unique()"
   ]
  },
  {
   "cell_type": "markdown",
   "metadata": {},
   "source": [
    "### Ancient D14C figures"
   ]
  },
  {
   "cell_type": "code",
   "execution_count": 36,
   "metadata": {},
   "outputs": [
    {
     "data": {
      "image/png": "[encoded data removed]",
      "text/plain": [
       "<Figure size 576x288 with 2 Axes>"
      ]
     },
     "metadata": {
      "needs_background": "light"
     },
     "output_type": "display_data"
    }
   ],
   "source": [
    "fig, (ax1, ax2) = plt.subplots(1, 2, figsize = (8,4))\n",
    "ax1.plot('Distance microns', 'D14C', data=sav, label = \"Savannah-4902 BC1\",marker = \"o\", color = 'k', markerfacecolor = \"white\", linewidth = 1)\n",
    "ax2.plot('Distance microns', 'D14C', data=jack4907, label = \"Jacksonville-4907 BC1\",marker = \"s\", color = 'k', markerfacecolor = \"white\", linewidth = 1)\n",
    "\n",
    "ax1.set_ylabel(r'$\\mathrm{\\Delta}^{14}$C ['u\"\\u2030]\")\n",
    "ax1.set_xlabel('Distance from edge (microns)')\n",
    "ax2.set_xlabel('Distance from edge (microns)')\n",
    "\n",
    "ax1.tick_params(direction='in')\n",
    "ax2.tick_params(direction='in')\n",
    "\n",
    "ax1.legend(frameon=False, loc = 0)\n",
    "ax2.legend(frameon=False, loc = 0)\n",
    "\n",
    "plt.savefig('fig_d14c_results_ancient.png', dpi = 300, bbox_inches = 'tight')"
   ]
  },
  {
   "cell_type": "code",
   "execution_count": null,
   "metadata": {},
   "outputs": [],
   "source": []
  }
 ],
 "metadata": {
  "kernelspec": {
   "display_name": "Python 3",
   "language": "python",
   "name": "python3"
  },
  "language_info": {
   "codemirror_mode": {
    "name": "ipython",
    "version": 3
   },
   "file_extension": ".py",
   "mimetype": "text/x-python",
   "name": "python",
   "nbconvert_exporter": "python",
   "pygments_lexer": "ipython3",
   "version": "3.7.4"
  }
 },
 "nbformat": 4,
 "nbformat_minor": 2
}
