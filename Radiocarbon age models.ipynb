{
 "cells": [
  {
   "cell_type": "markdown",
   "metadata": {},
   "source": [
    "## Radiocarbon age models and linear regressions"
   ]
  },
  {
   "cell_type": "code",
   "execution_count": 1,
   "metadata": {},
   "outputs": [],
   "source": [
    "# Load packages\n",
    "%matplotlib inline\n",
    "import matplotlib.pyplot as plt\n",
    "import matplotlib as mpl\n",
    "import numpy as np\n",
    "import pandas as pd\n",
    "pd.set_option('max_rows', 6)\n",
    "from sklearn.linear_model import LinearRegression\n",
    "import statsmodels.api as sm\n",
    "import cmocean.cm as cmo\n",
    "import csv\n",
    "import statsmodels.api as sm\n",
    "from scipy import stats\n",
    "\n",
    "# mpl.rcParams['mathtext.fontset'] = 'cm'\n",
    "# mpl.rcParams['mathtext.rm'] = 'serif'"
   ]
  },
  {
   "cell_type": "code",
   "execution_count": 2,
   "metadata": {},
   "outputs": [
    {
     "data": {
      "text/html": [
       "<div>\n",
       "<style scoped>\n",
       "    .dataframe tbody tr th:only-of-type {\n",
       "        vertical-align: middle;\n",
       "    }\n",
       "\n",
       "    .dataframe tbody tr th {\n",
       "        vertical-align: top;\n",
       "    }\n",
       "\n",
       "    .dataframe thead th {\n",
       "        text-align: right;\n",
       "    }\n",
       "</style>\n",
       "<table border=\"1\" class=\"dataframe\">\n",
       "  <thead>\n",
       "    <tr style=\"text-align: right;\">\n",
       "      <th></th>\n",
       "      <th>Coral</th>\n",
       "      <th>ID 1</th>\n",
       "      <th>ID 2</th>\n",
       "      <th>Sample</th>\n",
       "      <th>Distance microns</th>\n",
       "      <th>Fraction modern</th>\n",
       "      <th>error</th>\n",
       "      <th>D14C</th>\n",
       "      <th>D14C.1</th>\n",
       "      <th>d13C</th>\n",
       "      <th>14C Age</th>\n",
       "      <th>error.1</th>\n",
       "      <th>Year analyzed</th>\n",
       "    </tr>\n",
       "  </thead>\n",
       "  <tbody>\n",
       "    <tr>\n",
       "      <td>0</td>\n",
       "      <td>jack-4907-bc1-d1</td>\n",
       "      <td>NaN</td>\n",
       "      <td>Jacksonville Deep Water Coral 1105LEJK4907_17</td>\n",
       "      <td>2</td>\n",
       "      <td>95</td>\n",
       "      <td>0.88</td>\n",
       "      <td>0.004100</td>\n",
       "      <td>-118.7</td>\n",
       "      <td>-124.6</td>\n",
       "      <td>-14.8</td>\n",
       "      <td>1010.0</td>\n",
       "      <td>35.0</td>\n",
       "      <td>2006</td>\n",
       "    </tr>\n",
       "    <tr>\n",
       "      <td>1</td>\n",
       "      <td>jack-4907-bc1-d1</td>\n",
       "      <td>NaN</td>\n",
       "      <td>Jacksonville Deep Water Coral 1105LEJK4907_18</td>\n",
       "      <td>7</td>\n",
       "      <td>236</td>\n",
       "      <td>0.86</td>\n",
       "      <td>0.003200</td>\n",
       "      <td>-138.1</td>\n",
       "      <td>-143.9</td>\n",
       "      <td>-15.2</td>\n",
       "      <td>1190.0</td>\n",
       "      <td>30.0</td>\n",
       "      <td>2006</td>\n",
       "    </tr>\n",
       "    <tr>\n",
       "      <td>2</td>\n",
       "      <td>jack-4907-bc1-d1</td>\n",
       "      <td>NaN</td>\n",
       "      <td>Jacksonville Deep Water Coral 1105LEJK4907_1</td>\n",
       "      <td>11</td>\n",
       "      <td>512</td>\n",
       "      <td>0.80</td>\n",
       "      <td>0.002800</td>\n",
       "      <td>-203.5</td>\n",
       "      <td>-208.9</td>\n",
       "      <td>-15.0</td>\n",
       "      <td>1830.0</td>\n",
       "      <td>30.0</td>\n",
       "      <td>2006</td>\n",
       "    </tr>\n",
       "    <tr>\n",
       "      <td>...</td>\n",
       "      <td>...</td>\n",
       "      <td>...</td>\n",
       "      <td>...</td>\n",
       "      <td>...</td>\n",
       "      <td>...</td>\n",
       "      <td>...</td>\n",
       "      <td>...</td>\n",
       "      <td>...</td>\n",
       "      <td>...</td>\n",
       "      <td>...</td>\n",
       "      <td>...</td>\n",
       "      <td>...</td>\n",
       "      <td>...</td>\n",
       "    </tr>\n",
       "    <tr>\n",
       "      <td>87</td>\n",
       "      <td>stet-4904-bc1-d5</td>\n",
       "      <td>N105020</td>\n",
       "      <td>STET 7.94</td>\n",
       "      <td>7.94</td>\n",
       "      <td>10011</td>\n",
       "      <td>0.81</td>\n",
       "      <td>0.002831</td>\n",
       "      <td>-193.3</td>\n",
       "      <td>NaN</td>\n",
       "      <td>-15.0</td>\n",
       "      <td>1725.0</td>\n",
       "      <td>30.0</td>\n",
       "      <td>2013</td>\n",
       "    </tr>\n",
       "    <tr>\n",
       "      <td>88</td>\n",
       "      <td>stet-4904-bc1-d5</td>\n",
       "      <td>N105021</td>\n",
       "      <td>STET 7.123</td>\n",
       "      <td>7.123</td>\n",
       "      <td>10533</td>\n",
       "      <td>0.84</td>\n",
       "      <td>0.002960</td>\n",
       "      <td>-155.9</td>\n",
       "      <td>NaN</td>\n",
       "      <td>-15.0</td>\n",
       "      <td>1360.0</td>\n",
       "      <td>30.0</td>\n",
       "      <td>2013</td>\n",
       "    </tr>\n",
       "    <tr>\n",
       "      <td>89</td>\n",
       "      <td>stet-4904-bc1-d5</td>\n",
       "      <td>N105022</td>\n",
       "      <td>STET 7.149</td>\n",
       "      <td>7.149</td>\n",
       "      <td>11001</td>\n",
       "      <td>0.84</td>\n",
       "      <td>0.002954</td>\n",
       "      <td>-157.9</td>\n",
       "      <td>NaN</td>\n",
       "      <td>-15.0</td>\n",
       "      <td>1380.0</td>\n",
       "      <td>30.0</td>\n",
       "      <td>2013</td>\n",
       "    </tr>\n",
       "  </tbody>\n",
       "</table>\n",
       "<p>90 rows × 13 columns</p>\n",
       "</div>"
      ],
      "text/plain": [
       "               Coral     ID 1                                            ID 2  \\\n",
       "0   jack-4907-bc1-d1      NaN   Jacksonville Deep Water Coral 1105LEJK4907_17   \n",
       "1   jack-4907-bc1-d1      NaN   Jacksonville Deep Water Coral 1105LEJK4907_18   \n",
       "2   jack-4907-bc1-d1      NaN    Jacksonville Deep Water Coral 1105LEJK4907_1   \n",
       "..               ...      ...                                             ...   \n",
       "87  stet-4904-bc1-d5  N105020                                       STET 7.94   \n",
       "88  stet-4904-bc1-d5  N105021                                      STET 7.123   \n",
       "89  stet-4904-bc1-d5  N105022                                      STET 7.149   \n",
       "\n",
       "   Sample  Distance microns  Fraction modern     error   D14C  D14C.1  d13C  \\\n",
       "0       2                95             0.88  0.004100 -118.7  -124.6 -14.8   \n",
       "1       7               236             0.86  0.003200 -138.1  -143.9 -15.2   \n",
       "2      11               512             0.80  0.002800 -203.5  -208.9 -15.0   \n",
       "..    ...               ...              ...       ...    ...     ...   ...   \n",
       "87   7.94             10011             0.81  0.002831 -193.3     NaN -15.0   \n",
       "88  7.123             10533             0.84  0.002960 -155.9     NaN -15.0   \n",
       "89  7.149             11001             0.84  0.002954 -157.9     NaN -15.0   \n",
       "\n",
       "    14C Age  error.1  Year analyzed  \n",
       "0    1010.0     35.0           2006  \n",
       "1    1190.0     30.0           2006  \n",
       "2    1830.0     30.0           2006  \n",
       "..      ...      ...            ...  \n",
       "87   1725.0     30.0           2013  \n",
       "88   1360.0     30.0           2013  \n",
       "89   1380.0     30.0           2013  \n",
       "\n",
       "[90 rows x 13 columns]"
      ]
     },
     "execution_count": 2,
     "metadata": {},
     "output_type": "execute_result"
    }
   ],
   "source": [
    "# Import the radicoarbon data\n",
    "df = pd.read_csv('~/Documents/GitHub/data/schiff radiocarbon 02-05-2019.csv')\n",
    "stetson = df[df['Coral'] == 'stet-4904-bc1-d5']\n",
    "jack4684 = df[df['Coral'] == 'jack-4684-bc1']\n",
    "stetson_old = df[df['Coral'] == 'stet-4904-bc1']\n",
    "sav = df[df['Coral'] == 'sav-4902-bc1']\n",
    "jack4907 = df[df['Coral'] == 'jack-4907-bc1-d1']\n",
    "\n",
    "df"
   ]
  },
  {
   "cell_type": "markdown",
   "metadata": {},
   "source": [
    "### Bomb spike figures."
   ]
  },
  {
   "cell_type": "code",
   "execution_count": 35,
   "metadata": {},
   "outputs": [
    {
     "data": {
      "image/png": "[encoded data removed]",
      "text/plain": [
       "<Figure size 864x288 with 3 Axes>"
      ]
     },
     "metadata": {
      "needs_background": "light"
     },
     "output_type": "display_data"
    }
   ],
   "source": [
    "fig, (ax1, ax2, ax3) = plt.subplots(1, 3, figsize = (12,4))\n",
    "ax1.plot('Distance microns', 'D14C', data=stetson_old, label = \"Stetson-4904 BC1\",marker = \"o\", color = 'k', markerfacecolor = \"white\", linewidth = 1)\n",
    "ax2.plot('Distance microns', 'D14C', data=stetson, label = \"Stetson-4904 BC1\",marker = \"o\", color = 'k', markerfacecolor = \"white\", linewidth = 1)\n",
    "ax3.plot('Distance microns', 'D14C', data=jack4684, label = \"Jacksonville-4684 BC1\", marker = \"s\", color = 'k', markerfacecolor = \"white\", linewidth = 1)\n",
    "\n",
    "ax1.set_ylabel(r'$\\mathrm{\\Delta}^{14}$C ['u\"\\u2030]\")\n",
    "ax1.set_xlabel('Distance from edge (microns)')\n",
    "ax2.set_xlabel('Distance from edge (microns)')\n",
    "ax3.set_xlabel('Distance from edge (microns)')\n",
    "\n",
    "ax1.tick_params(direction='in')\n",
    "ax2.tick_params(direction='in')\n",
    "ax3.tick_params(direction='in')\n",
    "\n",
    "ax1.legend(frameon=False, loc = 0)\n",
    "ax2.legend(frameon=False, loc = 0)\n",
    "ax3.legend(frameon=False, loc = 0)\n",
    "\n",
    "plt.savefig('fig_d14c_results_recent.png', dpi = 300, bbox_inches = 'tight')"
   ]
  },
  {
   "cell_type": "code",
   "execution_count": 5,
   "metadata": {},
   "outputs": [
    {
     "data": {
      "text/plain": [
       "array(['jack-4907-bc1-d1', 'stet-4904-bc1', 'sav-4902-bc1',\n",
       "       'jack-4684-bc1', 'stet-4904-bc1-d5'], dtype=object)"
      ]
     },
     "execution_count": 5,
     "metadata": {},
     "output_type": "execute_result"
    }
   ],
   "source": [
    "df.Coral.unique()"
   ]
  },
  {
   "cell_type": "markdown",
   "metadata": {},
   "source": [
    "### Ancient D14C figures"
   ]
  },
  {
   "cell_type": "code",
   "execution_count": 36,
   "metadata": {},
   "outputs": [
    {
     "data": {
      "image/png": "[encoded data removed]",
      "text/plain": [
       "<Figure size 576x288 with 2 Axes>"
      ]
     },
     "metadata": {
      "needs_background": "light"
     },
     "output_type": "display_data"
    }
   ],
   "source": [
    "fig, (ax1, ax2) = plt.subplots(1, 2, figsize = (8,4))\n",
    "ax1.plot('Distance microns', 'D14C', data=sav, label = \"Savannah-4902 BC1\",marker = \"o\", color = 'k', markerfacecolor = \"white\", linewidth = 1)\n",
    "ax2.plot('Distance microns', 'D14C', data=jack4907, label = \"Jacksonville-4907 BC1\",marker = \"s\", color = 'k', markerfacecolor = \"white\", linewidth = 1)\n",
    "\n",
    "ax1.set_ylabel(r'$\\mathrm{\\Delta}^{14}$C ['u\"\\u2030]\")\n",
    "ax1.set_xlabel('Distance from edge (microns)')\n",
    "ax2.set_xlabel('Distance from edge (microns)')\n",
    "\n",
    "ax1.tick_params(direction='in')\n",
    "ax2.tick_params(direction='in')\n",
    "\n",
    "ax1.legend(frameon=False, loc = 0)\n",
    "ax2.legend(frameon=False, loc = 0)\n",
    "\n",
    "plt.savefig('fig_d14c_results_ancient.png', dpi = 300, bbox_inches = 'tight')"
   ]
  },
  {
   "cell_type": "code",
   "execution_count": null,
   "metadata": {},
   "outputs": [],
   "source": []
  }
 ],
 "metadata": {
  "kernelspec": {
   "display_name": "Python 3",
   "language": "python",
   "name": "python3"
  },
  "language_info": {
   "codemirror_mode": {
    "name": "ipython",
    "version": 3
   },
   "file_extension": ".py",
   "mimetype": "text/x-python",
   "name": "python",
   "nbconvert_exporter": "python",
   "pygments_lexer": "ipython3",
   "version": "3.7.3"
  }
 },
 "nbformat": 4,
 "nbformat_minor": 2
}
