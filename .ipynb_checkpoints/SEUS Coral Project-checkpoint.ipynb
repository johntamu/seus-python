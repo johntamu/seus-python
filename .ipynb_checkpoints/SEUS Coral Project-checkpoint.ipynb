{
 "cells": [
  {
   "cell_type": "markdown",
   "metadata": {},
   "source": [
    "### This code is for analyzing isotope data from SEUS Corals\n",
    "https://matplotlib.org/3.1.1/gallery/lines_bars_and_markers/categorical_variables.html"
   ]
  },
  {
   "cell_type": "markdown",
   "metadata": {},
   "source": [
    "### Radiocarbon\n",
    "This is for developing radiocarbon age models."
   ]
  },
  {
   "cell_type": "code",
   "execution_count": 1,
   "metadata": {},
   "outputs": [],
   "source": [
    "# Import the necessary code\n",
    "%matplotlib inline\n",
    "import matplotlib.pyplot as plt\n",
    "import numpy as np\n",
    "import pandas as pd\n",
    "pd.set_option('max_rows', 6)\n",
    "from sklearn.linear_model import LinearRegression\n",
    "import statsmodels.api as sm\n",
    "import seaborn as sns"
   ]
  },
  {
   "cell_type": "code",
   "execution_count": 2,
   "metadata": {},
   "outputs": [],
   "source": [
    "# Below are labels that will be commonly used with my plots\n",
    "n = r'$\\delta$' r'${}^{15}$' 'N'\n",
    "c = r'$\\delta$' r'${}^{13}$' 'C'\n",
    "phe = r'$\\delta$' r'${}^{15}$' 'N' '_Phe'"
   ]
  },
  {
   "cell_type": "code",
   "execution_count": 42,
   "metadata": {},
   "outputs": [
    {
     "data": {
      "text/html": [
       "<div>\n",
       "<style scoped>\n",
       "    .dataframe tbody tr th:only-of-type {\n",
       "        vertical-align: middle;\n",
       "    }\n",
       "\n",
       "    .dataframe tbody tr th {\n",
       "        vertical-align: top;\n",
       "    }\n",
       "\n",
       "    .dataframe thead th {\n",
       "        text-align: right;\n",
       "    }\n",
       "</style>\n",
       "<table border=\"1\" class=\"dataframe\">\n",
       "  <thead>\n",
       "    <tr style=\"text-align: right;\">\n",
       "      <th></th>\n",
       "      <th>Coral</th>\n",
       "      <th>ID 1</th>\n",
       "      <th>ID 2</th>\n",
       "      <th>Sample</th>\n",
       "      <th>Distance (um)</th>\n",
       "      <th>Fraction modern</th>\n",
       "      <th>error</th>\n",
       "      <th>D14C</th>\n",
       "      <th>D14C.1</th>\n",
       "      <th>d13C</th>\n",
       "      <th>14C Age</th>\n",
       "      <th>error.1</th>\n",
       "      <th>Year analyzed</th>\n",
       "    </tr>\n",
       "  </thead>\n",
       "  <tbody>\n",
       "    <tr>\n",
       "      <th>0</th>\n",
       "      <td>jack-4907-bc1-d1</td>\n",
       "      <td>NaN</td>\n",
       "      <td>Jacksonville Deep Water Coral 1105LEJK4907_17</td>\n",
       "      <td>2</td>\n",
       "      <td>95</td>\n",
       "      <td>0.88</td>\n",
       "      <td>0.004100</td>\n",
       "      <td>-118.7</td>\n",
       "      <td>-124.6</td>\n",
       "      <td>-14.8</td>\n",
       "      <td>1010.0</td>\n",
       "      <td>35.0</td>\n",
       "      <td>2006</td>\n",
       "    </tr>\n",
       "    <tr>\n",
       "      <th>1</th>\n",
       "      <td>jack-4907-bc1-d1</td>\n",
       "      <td>NaN</td>\n",
       "      <td>Jacksonville Deep Water Coral 1105LEJK4907_18</td>\n",
       "      <td>7</td>\n",
       "      <td>236</td>\n",
       "      <td>0.86</td>\n",
       "      <td>0.003200</td>\n",
       "      <td>-138.1</td>\n",
       "      <td>-143.9</td>\n",
       "      <td>-15.2</td>\n",
       "      <td>1190.0</td>\n",
       "      <td>30.0</td>\n",
       "      <td>2006</td>\n",
       "    </tr>\n",
       "    <tr>\n",
       "      <th>2</th>\n",
       "      <td>jack-4907-bc1-d1</td>\n",
       "      <td>NaN</td>\n",
       "      <td>Jacksonville Deep Water Coral 1105LEJK4907_1</td>\n",
       "      <td>11</td>\n",
       "      <td>512</td>\n",
       "      <td>0.80</td>\n",
       "      <td>0.002800</td>\n",
       "      <td>-203.5</td>\n",
       "      <td>-208.9</td>\n",
       "      <td>-15.0</td>\n",
       "      <td>1830.0</td>\n",
       "      <td>30.0</td>\n",
       "      <td>2006</td>\n",
       "    </tr>\n",
       "    <tr>\n",
       "      <th>...</th>\n",
       "      <td>...</td>\n",
       "      <td>...</td>\n",
       "      <td>...</td>\n",
       "      <td>...</td>\n",
       "      <td>...</td>\n",
       "      <td>...</td>\n",
       "      <td>...</td>\n",
       "      <td>...</td>\n",
       "      <td>...</td>\n",
       "      <td>...</td>\n",
       "      <td>...</td>\n",
       "      <td>...</td>\n",
       "      <td>...</td>\n",
       "    </tr>\n",
       "    <tr>\n",
       "      <th>87</th>\n",
       "      <td>stet-4904-bc1-d5</td>\n",
       "      <td>N105020</td>\n",
       "      <td>STET 7.94</td>\n",
       "      <td>7.94</td>\n",
       "      <td>10011</td>\n",
       "      <td>0.81</td>\n",
       "      <td>0.002831</td>\n",
       "      <td>-193.3</td>\n",
       "      <td>NaN</td>\n",
       "      <td>-15.0</td>\n",
       "      <td>1725.0</td>\n",
       "      <td>30.0</td>\n",
       "      <td>2013</td>\n",
       "    </tr>\n",
       "    <tr>\n",
       "      <th>88</th>\n",
       "      <td>stet-4904-bc1-d5</td>\n",
       "      <td>N105021</td>\n",
       "      <td>STET 7.123</td>\n",
       "      <td>7.123</td>\n",
       "      <td>10533</td>\n",
       "      <td>0.84</td>\n",
       "      <td>0.002960</td>\n",
       "      <td>-155.9</td>\n",
       "      <td>NaN</td>\n",
       "      <td>-15.0</td>\n",
       "      <td>1360.0</td>\n",
       "      <td>30.0</td>\n",
       "      <td>2013</td>\n",
       "    </tr>\n",
       "    <tr>\n",
       "      <th>89</th>\n",
       "      <td>stet-4904-bc1-d5</td>\n",
       "      <td>N105022</td>\n",
       "      <td>STET 7.149</td>\n",
       "      <td>7.149</td>\n",
       "      <td>11001</td>\n",
       "      <td>0.84</td>\n",
       "      <td>0.002954</td>\n",
       "      <td>-157.9</td>\n",
       "      <td>NaN</td>\n",
       "      <td>-15.0</td>\n",
       "      <td>1380.0</td>\n",
       "      <td>30.0</td>\n",
       "      <td>2013</td>\n",
       "    </tr>\n",
       "  </tbody>\n",
       "</table>\n",
       "<p>90 rows × 13 columns</p>\n",
       "</div>"
      ],
      "text/plain": [
       "               Coral     ID 1                                            ID 2  \\\n",
       "0   jack-4907-bc1-d1      NaN   Jacksonville Deep Water Coral 1105LEJK4907_17   \n",
       "1   jack-4907-bc1-d1      NaN   Jacksonville Deep Water Coral 1105LEJK4907_18   \n",
       "2   jack-4907-bc1-d1      NaN    Jacksonville Deep Water Coral 1105LEJK4907_1   \n",
       "..               ...      ...                                             ...   \n",
       "87  stet-4904-bc1-d5  N105020                                       STET 7.94   \n",
       "88  stet-4904-bc1-d5  N105021                                      STET 7.123   \n",
       "89  stet-4904-bc1-d5  N105022                                      STET 7.149   \n",
       "\n",
       "   Sample  Distance (um)  Fraction modern     error   D14C  D14C.1  d13C  \\\n",
       "0       2             95             0.88  0.004100 -118.7  -124.6 -14.8   \n",
       "1       7            236             0.86  0.003200 -138.1  -143.9 -15.2   \n",
       "2      11            512             0.80  0.002800 -203.5  -208.9 -15.0   \n",
       "..    ...            ...              ...       ...    ...     ...   ...   \n",
       "87   7.94          10011             0.81  0.002831 -193.3     NaN -15.0   \n",
       "88  7.123          10533             0.84  0.002960 -155.9     NaN -15.0   \n",
       "89  7.149          11001             0.84  0.002954 -157.9     NaN -15.0   \n",
       "\n",
       "    14C Age  error.1  Year analyzed  \n",
       "0    1010.0     35.0           2006  \n",
       "1    1190.0     30.0           2006  \n",
       "2    1830.0     30.0           2006  \n",
       "..      ...      ...            ...  \n",
       "87   1725.0     30.0           2013  \n",
       "88   1360.0     30.0           2013  \n",
       "89   1380.0     30.0           2013  \n",
       "\n",
       "[90 rows x 13 columns]"
      ]
     },
     "execution_count": 42,
     "metadata": {},
     "output_type": "execute_result"
    }
   ],
   "source": [
    "# Read data from file 'filename.csv' \n",
    "# (in the same directory that your python process is based)\n",
    "\n",
    "radiocarbon = pd.read_csv('~/Google Drive/projects/rproj/seus/data/schiff radiocarbon 02-05-2019.csv')\n",
    "# list(radiocarbon)\n",
    "# radiocarbon.Coral.unique()\n",
    "radiocarbon"
   ]
  },
  {
   "cell_type": "code",
   "execution_count": 40,
   "metadata": {},
   "outputs": [],
   "source": [
    "# Subsetting the data\n",
    "jack = radiocarbon[radiocarbon['Coral'] == 'jack-4907-bc1-d1']\n",
    "sav = radiocarbon[radiocarbon['Coral'] == 'sav-4902-bc1']\n",
    "jack2 = radiocarbon[radiocarbon['Coral'] == 'jack-4684-bc1']"
   ]
  },
  {
   "cell_type": "code",
   "execution_count": 41,
   "metadata": {},
   "outputs": [
    {
     "data": {
      "image/png": "[encoded data removed]",
      "text/plain": [
       "<Figure size 360x360 with 1 Axes>"
      ]
     },
     "metadata": {
      "needs_background": "light"
     },
     "output_type": "display_data"
    }
   ],
   "source": [
    "sns.relplot(x=\"Distance (um)\", y=\"14C Age\", data=jack2);"
   ]
  },
  {
   "cell_type": "code",
   "execution_count": 26,
   "metadata": {},
   "outputs": [
    {
     "data": {
      "image/png": "[encoded data removed]",
      "text/plain": [
       "<Figure size 720x72 with 1 Axes>"
      ]
     },
     "metadata": {
      "needs_background": "light"
     },
     "output_type": "display_data"
    }
   ],
   "source": [
    "current_palette = sns.color_palette('colorblind')\n",
    "sns.palplot(current_palette)"
   ]
  },
  {
   "cell_type": "markdown",
   "metadata": {},
   "source": [
    "### Bulk Isotope Records\n",
    "Code for analyzing the bulk d13C and d15N records from the corals. Spreadsheet continuously updated."
   ]
  },
  {
   "cell_type": "code",
   "execution_count": 3,
   "metadata": {},
   "outputs": [
    {
     "data": {
      "text/plain": [
       "array(['jack-4907-bc1-d3', 'jack-4907-bc1-d1', 'jack-4684-bc-unk',\n",
       "       'jack-4686-bc-d1-t1', 'stet-4904-bc1-d2', 'sav-4902-bc1-unk'],\n",
       "      dtype=object)"
      ]
     },
     "execution_count": 3,
     "metadata": {},
     "output_type": "execute_result"
    }
   ],
   "source": [
    "df_bulk = pd.read_csv('~/Google Drive/projects/rproj/seus/data/schiff_bulk_years_06-18-2019.csv')\n",
    "# df_bulk.head(3)\n",
    "df_bulk['coral.id'].unique()"
   ]
  },
  {
   "cell_type": "code",
   "execution_count": 7,
   "metadata": {},
   "outputs": [
    {
     "data": {
      "text/html": [
       "<div>\n",
       "<style scoped>\n",
       "    .dataframe tbody tr th:only-of-type {\n",
       "        vertical-align: middle;\n",
       "    }\n",
       "\n",
       "    .dataframe tbody tr th {\n",
       "        vertical-align: top;\n",
       "    }\n",
       "\n",
       "    .dataframe thead th {\n",
       "        text-align: right;\n",
       "    }\n",
       "</style>\n",
       "<table border=\"1\" class=\"dataframe\">\n",
       "  <thead>\n",
       "    <tr style=\"text-align: right;\">\n",
       "      <th></th>\n",
       "      <th>coral.id</th>\n",
       "      <th>sampler</th>\n",
       "      <th>sample.no.</th>\n",
       "      <th>distance..mm.</th>\n",
       "      <th>d15n.vs.air</th>\n",
       "      <th>d13c.vs.vpdb</th>\n",
       "      <th>treatment</th>\n",
       "      <th>perc.n</th>\n",
       "      <th>perc.c</th>\n",
       "      <th>c.n</th>\n",
       "      <th>machine</th>\n",
       "      <th>linear.ad</th>\n",
       "      <th>linear.ad2</th>\n",
       "      <th>d15n.3pt</th>\n",
       "      <th>d13c.3pt</th>\n",
       "      <th>d15n.5pt</th>\n",
       "      <th>d13c.5pt</th>\n",
       "      <th>d15n.12pt</th>\n",
       "      <th>d13c.12pt</th>\n",
       "    </tr>\n",
       "  </thead>\n",
       "  <tbody>\n",
       "    <tr>\n",
       "      <th>579</th>\n",
       "      <td>stet-4904-bc1-d2</td>\n",
       "      <td>john</td>\n",
       "      <td>1</td>\n",
       "      <td>0.03</td>\n",
       "      <td>9.240000</td>\n",
       "      <td>-16.910000</td>\n",
       "      <td>a</td>\n",
       "      <td>NaN</td>\n",
       "      <td>NaN</td>\n",
       "      <td>NaN</td>\n",
       "      <td>NaN</td>\n",
       "      <td>2001.143048</td>\n",
       "      <td>2001.739871</td>\n",
       "      <td>NaN</td>\n",
       "      <td>NaN</td>\n",
       "      <td>NaN</td>\n",
       "      <td>NaN</td>\n",
       "      <td>NaN</td>\n",
       "      <td>NaN</td>\n",
       "    </tr>\n",
       "    <tr>\n",
       "      <th>580</th>\n",
       "      <td>stet-4904-bc1-d2</td>\n",
       "      <td>john</td>\n",
       "      <td>2</td>\n",
       "      <td>0.06</td>\n",
       "      <td>9.240000</td>\n",
       "      <td>-16.840000</td>\n",
       "      <td>a</td>\n",
       "      <td>NaN</td>\n",
       "      <td>NaN</td>\n",
       "      <td>NaN</td>\n",
       "      <td>NaN</td>\n",
       "      <td>1997.286096</td>\n",
       "      <td>1998.479742</td>\n",
       "      <td>9.370000</td>\n",
       "      <td>-16.886667</td>\n",
       "      <td>NaN</td>\n",
       "      <td>NaN</td>\n",
       "      <td>NaN</td>\n",
       "      <td>NaN</td>\n",
       "    </tr>\n",
       "    <tr>\n",
       "      <th>581</th>\n",
       "      <td>stet-4904-bc1-d2</td>\n",
       "      <td>john</td>\n",
       "      <td>3</td>\n",
       "      <td>0.09</td>\n",
       "      <td>9.630000</td>\n",
       "      <td>-16.910000</td>\n",
       "      <td>b</td>\n",
       "      <td>NaN</td>\n",
       "      <td>NaN</td>\n",
       "      <td>NaN</td>\n",
       "      <td>delta v plus</td>\n",
       "      <td>1993.429144</td>\n",
       "      <td>1995.219614</td>\n",
       "      <td>9.250000</td>\n",
       "      <td>-16.716667</td>\n",
       "      <td>9.266000</td>\n",
       "      <td>-16.776000</td>\n",
       "      <td>NaN</td>\n",
       "      <td>NaN</td>\n",
       "    </tr>\n",
       "    <tr>\n",
       "      <th>...</th>\n",
       "      <td>...</td>\n",
       "      <td>...</td>\n",
       "      <td>...</td>\n",
       "      <td>...</td>\n",
       "      <td>...</td>\n",
       "      <td>...</td>\n",
       "      <td>...</td>\n",
       "      <td>...</td>\n",
       "      <td>...</td>\n",
       "      <td>...</td>\n",
       "      <td>...</td>\n",
       "      <td>...</td>\n",
       "      <td>...</td>\n",
       "      <td>...</td>\n",
       "      <td>...</td>\n",
       "      <td>...</td>\n",
       "      <td>...</td>\n",
       "      <td>...</td>\n",
       "      <td>...</td>\n",
       "    </tr>\n",
       "    <tr>\n",
       "      <th>962</th>\n",
       "      <td>stet-4904-bc1-d2</td>\n",
       "      <td>john</td>\n",
       "      <td>384</td>\n",
       "      <td>11.14</td>\n",
       "      <td>7.330000</td>\n",
       "      <td>-16.390000</td>\n",
       "      <td>a</td>\n",
       "      <td>NaN</td>\n",
       "      <td>NaN</td>\n",
       "      <td>NaN</td>\n",
       "      <td>delta v plus</td>\n",
       "      <td>572.785180</td>\n",
       "      <td>794.405522</td>\n",
       "      <td>7.353333</td>\n",
       "      <td>-16.500000</td>\n",
       "      <td>7.359621</td>\n",
       "      <td>-16.420563</td>\n",
       "      <td>NaN</td>\n",
       "      <td>NaN</td>\n",
       "    </tr>\n",
       "    <tr>\n",
       "      <th>963</th>\n",
       "      <td>stet-4904-bc1-d2</td>\n",
       "      <td>john</td>\n",
       "      <td>385</td>\n",
       "      <td>11.17</td>\n",
       "      <td>7.170000</td>\n",
       "      <td>-16.790000</td>\n",
       "      <td>a</td>\n",
       "      <td>NaN</td>\n",
       "      <td>NaN</td>\n",
       "      <td>NaN</td>\n",
       "      <td>delta v plus</td>\n",
       "      <td>568.928228</td>\n",
       "      <td>791.145394</td>\n",
       "      <td>7.206035</td>\n",
       "      <td>-16.587604</td>\n",
       "      <td>NaN</td>\n",
       "      <td>NaN</td>\n",
       "      <td>NaN</td>\n",
       "      <td>NaN</td>\n",
       "    </tr>\n",
       "    <tr>\n",
       "      <th>964</th>\n",
       "      <td>stet-4904-bc1-d2</td>\n",
       "      <td>john</td>\n",
       "      <td>386</td>\n",
       "      <td>11.20</td>\n",
       "      <td>7.118105</td>\n",
       "      <td>-16.582813</td>\n",
       "      <td>NaN</td>\n",
       "      <td>NaN</td>\n",
       "      <td>NaN</td>\n",
       "      <td>2.95</td>\n",
       "      <td>delta v plus</td>\n",
       "      <td>565.071276</td>\n",
       "      <td>787.885265</td>\n",
       "      <td>NaN</td>\n",
       "      <td>NaN</td>\n",
       "      <td>NaN</td>\n",
       "      <td>NaN</td>\n",
       "      <td>NaN</td>\n",
       "      <td>NaN</td>\n",
       "    </tr>\n",
       "  </tbody>\n",
       "</table>\n",
       "<p>386 rows × 19 columns</p>\n",
       "</div>"
      ],
      "text/plain": [
       "             coral.id sampler  sample.no.  distance..mm.  d15n.vs.air  \\\n",
       "579  stet-4904-bc1-d2    john           1           0.03     9.240000   \n",
       "580  stet-4904-bc1-d2    john           2           0.06     9.240000   \n",
       "581  stet-4904-bc1-d2    john           3           0.09     9.630000   \n",
       "..                ...     ...         ...            ...          ...   \n",
       "962  stet-4904-bc1-d2    john         384          11.14     7.330000   \n",
       "963  stet-4904-bc1-d2    john         385          11.17     7.170000   \n",
       "964  stet-4904-bc1-d2    john         386          11.20     7.118105   \n",
       "\n",
       "     d13c.vs.vpdb treatment  perc.n  perc.c   c.n       machine    linear.ad  \\\n",
       "579    -16.910000         a     NaN     NaN   NaN           NaN  2001.143048   \n",
       "580    -16.840000         a     NaN     NaN   NaN           NaN  1997.286096   \n",
       "581    -16.910000         b     NaN     NaN   NaN  delta v plus  1993.429144   \n",
       "..            ...       ...     ...     ...   ...           ...          ...   \n",
       "962    -16.390000         a     NaN     NaN   NaN  delta v plus   572.785180   \n",
       "963    -16.790000         a     NaN     NaN   NaN  delta v plus   568.928228   \n",
       "964    -16.582813       NaN     NaN     NaN  2.95  delta v plus   565.071276   \n",
       "\n",
       "      linear.ad2  d15n.3pt   d13c.3pt  d15n.5pt   d13c.5pt  d15n.12pt  \\\n",
       "579  2001.739871       NaN        NaN       NaN        NaN        NaN   \n",
       "580  1998.479742  9.370000 -16.886667       NaN        NaN        NaN   \n",
       "581  1995.219614  9.250000 -16.716667  9.266000 -16.776000        NaN   \n",
       "..           ...       ...        ...       ...        ...        ...   \n",
       "962   794.405522  7.353333 -16.500000  7.359621 -16.420563        NaN   \n",
       "963   791.145394  7.206035 -16.587604       NaN        NaN        NaN   \n",
       "964   787.885265       NaN        NaN       NaN        NaN        NaN   \n",
       "\n",
       "     d13c.12pt  \n",
       "579        NaN  \n",
       "580        NaN  \n",
       "581        NaN  \n",
       "..         ...  \n",
       "962        NaN  \n",
       "963        NaN  \n",
       "964        NaN  \n",
       "\n",
       "[386 rows x 19 columns]"
      ]
     },
     "execution_count": 7,
     "metadata": {},
     "output_type": "execute_result"
    }
   ],
   "source": [
    "'''\n",
    "Different ways to subset data\n",
    "'''\n",
    "# ufo.loc[rows, columns]\n",
    "# Link: https://www.ritchieng.com/pandas-selecting-multiple-rows-and-columns/\n",
    "\n",
    "# df_stetson = df_bulk[df_bulk['coral.id'] == 'stet-4904-bc1-d2']\n",
    "# Here I filtered out only the Stetson and Jack-4684 datasets\n",
    "# df_1 = df_bulk[(df_bulk['coral.id'] == 'stet-4904-bc1-d2') | (df_bulk['coral.id'] == 'jack-4684-bc-unk')]\n",
    "df_1 = df_bulk[(df_bulk['coral.id'] == 'stet-4904-bc1-d2')]\n",
    "df_1"
   ]
  },
  {
   "cell_type": "code",
   "execution_count": 9,
   "metadata": {},
   "outputs": [
    {
     "data": {
      "text/plain": [
       "[Text(0, 0.5, '$\\\\delta$${}^{15}$N'),\n",
       " (1200, 2005),\n",
       " Text(0.5, 0, 'Year AD'),\n",
       " None]"
      ]
     },
     "execution_count": 9,
     "metadata": {},
     "output_type": "execute_result"
    },
    {
     "data": {
      "image/png": "[encoded data removed]",
      "text/plain": [
       "<Figure size 432x288 with 1 Axes>"
      ]
     },
     "metadata": {},
     "output_type": "display_data"
    }
   ],
   "source": [
    "# sns.set_palette(\"colorblind\")\n",
    "# sns.set_style(\"white\")\n",
    "sns.set_style(\"ticks\")\n",
    "sns.set_context(\"paper\", font_scale=1.5)\n",
    "# sns.set_context(\"talk\")\n",
    "\n",
    "data = df_1\n",
    "fig = sns.lineplot(x='linear.ad', y='d15n.vs.air', hue = 'coral.id', data = data, legend = False);\n",
    "fig.set(xlabel = 'Year AD', ylabel = n, xlim = (1200, 2005), aspect = 175)\n",
    "\n",
    "# axes = fig.axes\n",
    "# axes[0,0].set_xlim(1200,2005)\n",
    "\n",
    "# plt.legend(loc='best', labels=['Jacksonville 4684 BC1', 'Stetson 4904 BC1'], framealpha=0.0, fontsize = 'x-small')\n",
    "# plt.show(fig) \n",
    "# out = fig.get_figure()\n",
    "# out.savefig(\"output.pdf\")"
   ]
  },
  {
   "cell_type": "markdown",
   "metadata": {},
   "source": [
    "## Writing data to text or CSV files\n",
    "Code for exporting data for use in other software (e.g., SSA-MTM)"
   ]
  },
  {
   "cell_type": "code",
   "execution_count": 17,
   "metadata": {},
   "outputs": [],
   "source": [
    "# Write a vector of d15N or d13C from a coral to a txt file for SSA-MTM / kSpectra\n",
    "np.savetxt(\"stetson_d15n.txt\", df_stetson['d15n.vs.air']) # This works and can be imported by SSA-MTM\n",
    "# May not work for Stetson because two values are missing and need to be re-analyzed"
   ]
  },
  {
   "cell_type": "code",
   "execution_count": 19,
   "metadata": {},
   "outputs": [
    {
     "data": {
      "text/plain": [
       "579    9.240000\n",
       "580    9.240000\n",
       "581    9.630000\n",
       "         ...   \n",
       "962    7.330000\n",
       "963    7.170000\n",
       "964    7.118105\n",
       "Name: d15n.vs.air, Length: 386, dtype: float64"
      ]
     },
     "execution_count": 19,
     "metadata": {},
     "output_type": "execute_result"
    }
   ],
   "source": [
    "df_stetson['d15n.vs.air']"
   ]
  },
  {
   "cell_type": "markdown",
   "metadata": {},
   "source": [
    "## Mapping\n",
    "Code for plotting maps of study sites and relevant oceanographic data"
   ]
  },
  {
   "cell_type": "code",
   "execution_count": 3,
   "metadata": {},
   "outputs": [
    {
     "ename": "ModuleNotFoundError",
     "evalue": "No module named 'netCDF4'",
     "output_type": "error",
     "traceback": [
      "\u001b[0;31m---------------------------------------------------------------------------\u001b[0m",
      "\u001b[0;31mModuleNotFoundError\u001b[0m                       Traceback (most recent call last)",
      "\u001b[0;32m<ipython-input-3-a4ff2b7356ad>\u001b[0m in \u001b[0;36m<module>\u001b[0;34m\u001b[0m\n\u001b[1;32m      3\u001b[0m \u001b[0;32mimport\u001b[0m \u001b[0mmatplotlib\u001b[0m\u001b[0;34m.\u001b[0m\u001b[0mpyplot\u001b[0m \u001b[0;32mas\u001b[0m \u001b[0mplt\u001b[0m\u001b[0;34m\u001b[0m\u001b[0;34m\u001b[0m\u001b[0m\n\u001b[1;32m      4\u001b[0m \u001b[0;32mimport\u001b[0m \u001b[0murllib\u001b[0m\u001b[0;34m\u001b[0m\u001b[0;34m\u001b[0m\u001b[0m\n\u001b[0;32m----> 5\u001b[0;31m \u001b[0;32mimport\u001b[0m \u001b[0mnetCDF4\u001b[0m\u001b[0;34m\u001b[0m\u001b[0;34m\u001b[0m\u001b[0m\n\u001b[0m\u001b[1;32m      6\u001b[0m \u001b[0;32mfrom\u001b[0m \u001b[0mmpl_toolkits\u001b[0m\u001b[0;34m.\u001b[0m\u001b[0mbasemap\u001b[0m \u001b[0;32mimport\u001b[0m \u001b[0mBasemap\u001b[0m\u001b[0;34m\u001b[0m\u001b[0;34m\u001b[0m\u001b[0m\n",
      "\u001b[0;31mModuleNotFoundError\u001b[0m: No module named 'netCDF4'"
     ]
    }
   ],
   "source": [
    "# Link: https://nbviewer.jupyter.org/gist/rsignell-usgs/a4f418c3f588ca32e116\n",
    "import numpy as np\n",
    "import matplotlib.pyplot as plt\n",
    "import urllib\n",
    "import netCDF4\n",
    "from mpl_toolkits.basemap import Basemap"
   ]
  },
  {
   "cell_type": "code",
   "execution_count": 17,
   "metadata": {},
   "outputs": [
    {
     "name": "stdout",
     "output_type": "stream",
     "text": [
      "https://coastwatch.pfeg.noaa.gov/erddap/griddap/usgsCeCrm2.nc?topo[(40.0):1:(31.0)][(-85.0):1:(-68.0)]topo[(45.000000):5:(42.000000)][(-67.000000):5:(-61.500000)]\n"
     ]
    }
   ],
   "source": [
    "# Definine the domain of interest\n",
    "minlat = 42\n",
    "maxlat = 45\n",
    "minlon = -67\n",
    "maxlon = -61.5\n",
    "isub = 5\n",
    " \n",
    "# Read data from: http://coastwatch.pfeg.noaa.gov/erddap/griddap/usgsCeSrtm30v6.html\n",
    "# using the netCDF output option\n",
    "base_url='https://coastwatch.pfeg.noaa.gov/erddap/griddap/usgsCeCrm2.nc?topo[(40.0):1:(31.0)][(-85.0):1:(-68.0)]'\n",
    "query='topo[(%f):%d:(%f)][(%f):%d:(%f)]' % (maxlat,isub,minlat,minlon,isub,maxlon)\n",
    "url = base_url+query\n",
    "print(url)"
   ]
  },
  {
   "cell_type": "code",
   "execution_count": 19,
   "metadata": {},
   "outputs": [
    {
     "ename": "TypeError",
     "evalue": "POST data should be bytes, an iterable of bytes, or a file object. It cannot be of type str.",
     "output_type": "error",
     "traceback": [
      "\u001b[0;31m---------------------------------------------------------------------------\u001b[0m",
      "\u001b[0;31mTypeError\u001b[0m                                 Traceback (most recent call last)",
      "\u001b[0;32m<ipython-input-19-325e1f9e3dd5>\u001b[0m in \u001b[0;36m<module>\u001b[0;34m\u001b[0m\n\u001b[1;32m      1\u001b[0m \u001b[0;31m# store data in NetCDF file\u001b[0m\u001b[0;34m\u001b[0m\u001b[0;34m\u001b[0m\u001b[0;34m\u001b[0m\u001b[0m\n\u001b[1;32m      2\u001b[0m \u001b[0mfile\u001b[0m \u001b[0;34m=\u001b[0m \u001b[0;34m'usgsCeCrm2.nc'\u001b[0m\u001b[0;34m\u001b[0m\u001b[0;34m\u001b[0m\u001b[0m\n\u001b[0;32m----> 3\u001b[0;31m \u001b[0murllib\u001b[0m\u001b[0;34m.\u001b[0m\u001b[0mrequest\u001b[0m\u001b[0;34m.\u001b[0m\u001b[0murlopen\u001b[0m\u001b[0;34m(\u001b[0m\u001b[0murl\u001b[0m\u001b[0;34m,\u001b[0m \u001b[0mdata\u001b[0m \u001b[0;34m=\u001b[0m \u001b[0mfile\u001b[0m\u001b[0;34m)\u001b[0m\u001b[0;34m\u001b[0m\u001b[0;34m\u001b[0m\u001b[0m\n\u001b[0m",
      "\u001b[0;32m/anaconda3/lib/python3.7/urllib/request.py\u001b[0m in \u001b[0;36murlopen\u001b[0;34m(url, data, timeout, cafile, capath, cadefault, context)\u001b[0m\n\u001b[1;32m    220\u001b[0m     \u001b[0;32melse\u001b[0m\u001b[0;34m:\u001b[0m\u001b[0;34m\u001b[0m\u001b[0;34m\u001b[0m\u001b[0m\n\u001b[1;32m    221\u001b[0m         \u001b[0mopener\u001b[0m \u001b[0;34m=\u001b[0m \u001b[0m_opener\u001b[0m\u001b[0;34m\u001b[0m\u001b[0;34m\u001b[0m\u001b[0m\n\u001b[0;32m--> 222\u001b[0;31m     \u001b[0;32mreturn\u001b[0m \u001b[0mopener\u001b[0m\u001b[0;34m.\u001b[0m\u001b[0mopen\u001b[0m\u001b[0;34m(\u001b[0m\u001b[0murl\u001b[0m\u001b[0;34m,\u001b[0m \u001b[0mdata\u001b[0m\u001b[0;34m,\u001b[0m \u001b[0mtimeout\u001b[0m\u001b[0;34m)\u001b[0m\u001b[0;34m\u001b[0m\u001b[0;34m\u001b[0m\u001b[0m\n\u001b[0m\u001b[1;32m    223\u001b[0m \u001b[0;34m\u001b[0m\u001b[0m\n\u001b[1;32m    224\u001b[0m \u001b[0;32mdef\u001b[0m \u001b[0minstall_opener\u001b[0m\u001b[0;34m(\u001b[0m\u001b[0mopener\u001b[0m\u001b[0;34m)\u001b[0m\u001b[0;34m:\u001b[0m\u001b[0;34m\u001b[0m\u001b[0;34m\u001b[0m\u001b[0m\n",
      "\u001b[0;32m/anaconda3/lib/python3.7/urllib/request.py\u001b[0m in \u001b[0;36mopen\u001b[0;34m(self, fullurl, data, timeout)\u001b[0m\n\u001b[1;32m    521\u001b[0m         \u001b[0;32mfor\u001b[0m \u001b[0mprocessor\u001b[0m \u001b[0;32min\u001b[0m \u001b[0mself\u001b[0m\u001b[0;34m.\u001b[0m\u001b[0mprocess_request\u001b[0m\u001b[0;34m.\u001b[0m\u001b[0mget\u001b[0m\u001b[0;34m(\u001b[0m\u001b[0mprotocol\u001b[0m\u001b[0;34m,\u001b[0m \u001b[0;34m[\u001b[0m\u001b[0;34m]\u001b[0m\u001b[0;34m)\u001b[0m\u001b[0;34m:\u001b[0m\u001b[0;34m\u001b[0m\u001b[0;34m\u001b[0m\u001b[0m\n\u001b[1;32m    522\u001b[0m             \u001b[0mmeth\u001b[0m \u001b[0;34m=\u001b[0m \u001b[0mgetattr\u001b[0m\u001b[0;34m(\u001b[0m\u001b[0mprocessor\u001b[0m\u001b[0;34m,\u001b[0m \u001b[0mmeth_name\u001b[0m\u001b[0;34m)\u001b[0m\u001b[0;34m\u001b[0m\u001b[0;34m\u001b[0m\u001b[0m\n\u001b[0;32m--> 523\u001b[0;31m             \u001b[0mreq\u001b[0m \u001b[0;34m=\u001b[0m \u001b[0mmeth\u001b[0m\u001b[0;34m(\u001b[0m\u001b[0mreq\u001b[0m\u001b[0;34m)\u001b[0m\u001b[0;34m\u001b[0m\u001b[0;34m\u001b[0m\u001b[0m\n\u001b[0m\u001b[1;32m    524\u001b[0m \u001b[0;34m\u001b[0m\u001b[0m\n\u001b[1;32m    525\u001b[0m         \u001b[0mresponse\u001b[0m \u001b[0;34m=\u001b[0m \u001b[0mself\u001b[0m\u001b[0;34m.\u001b[0m\u001b[0m_open\u001b[0m\u001b[0;34m(\u001b[0m\u001b[0mreq\u001b[0m\u001b[0;34m,\u001b[0m \u001b[0mdata\u001b[0m\u001b[0;34m)\u001b[0m\u001b[0;34m\u001b[0m\u001b[0;34m\u001b[0m\u001b[0m\n",
      "\u001b[0;32m/anaconda3/lib/python3.7/urllib/request.py\u001b[0m in \u001b[0;36mdo_request_\u001b[0;34m(self, request)\u001b[0m\n\u001b[1;32m   1245\u001b[0m                 \u001b[0mmsg\u001b[0m \u001b[0;34m=\u001b[0m \u001b[0;34m\"POST data should be bytes, an iterable of bytes, \"\u001b[0m\u001b[0;31m \u001b[0m\u001b[0;31m\\\u001b[0m\u001b[0;34m\u001b[0m\u001b[0;34m\u001b[0m\u001b[0m\n\u001b[1;32m   1246\u001b[0m                       \u001b[0;34m\"or a file object. It cannot be of type str.\"\u001b[0m\u001b[0;34m\u001b[0m\u001b[0;34m\u001b[0m\u001b[0m\n\u001b[0;32m-> 1247\u001b[0;31m                 \u001b[0;32mraise\u001b[0m \u001b[0mTypeError\u001b[0m\u001b[0;34m(\u001b[0m\u001b[0mmsg\u001b[0m\u001b[0;34m)\u001b[0m\u001b[0;34m\u001b[0m\u001b[0;34m\u001b[0m\u001b[0m\n\u001b[0m\u001b[1;32m   1248\u001b[0m             \u001b[0;32mif\u001b[0m \u001b[0;32mnot\u001b[0m \u001b[0mrequest\u001b[0m\u001b[0;34m.\u001b[0m\u001b[0mhas_header\u001b[0m\u001b[0;34m(\u001b[0m\u001b[0;34m'Content-type'\u001b[0m\u001b[0;34m)\u001b[0m\u001b[0;34m:\u001b[0m\u001b[0;34m\u001b[0m\u001b[0;34m\u001b[0m\u001b[0m\n\u001b[1;32m   1249\u001b[0m                 request.add_unredirected_header(\n",
      "\u001b[0;31mTypeError\u001b[0m: POST data should be bytes, an iterable of bytes, or a file object. It cannot be of type str."
     ]
    }
   ],
   "source": [
    "# store data in NetCDF file\n",
    "file = 'usgsCeCrm2.nc'\n",
    "urllib.request.urlopen(url, data = file)"
   ]
  },
  {
   "cell_type": "code",
   "execution_count": 20,
   "metadata": {},
   "outputs": [
    {
     "ename": "SyntaxError",
     "evalue": "invalid syntax (<ipython-input-20-5867c7692229>, line 4)",
     "output_type": "error",
     "traceback": [
      "\u001b[0;36m  File \u001b[0;32m\"<ipython-input-20-5867c7692229>\"\u001b[0;36m, line \u001b[0;32m4\u001b[0m\n\u001b[0;31m    print ncv.keys()\u001b[0m\n\u001b[0m            ^\u001b[0m\n\u001b[0;31mSyntaxError\u001b[0m\u001b[0;31m:\u001b[0m invalid syntax\n"
     ]
    }
   ],
   "source": [
    "# open NetCDF data in \n",
    "nc = netCDF4.Dataset(file)\n",
    "ncv = nc.variables\n",
    "print ncv.keys()"
   ]
  },
  {
   "cell_type": "code",
   "execution_count": null,
   "metadata": {},
   "outputs": [],
   "source": [
    "lon = ncv['longitude'][:]\n",
    "lat = ncv['latitude'][:]\n",
    "lons, lats = np.meshgrid(lon,lat)\n",
    "topo = ncv['topo'][:,:]"
   ]
  },
  {
   "cell_type": "code",
   "execution_count": null,
   "metadata": {},
   "outputs": [],
   "source": [
    "# Create map\n",
    "m = Basemap(projection='mill', llcrnrlat=minlat,urcrnrlat=maxlat,llcrnrlon=minlon, urcrnrlon=maxlon,resolution='h')\n",
    "fig1 = plt.figure(figsize=(10,8))\n",
    "cs = m.pcolormesh(lons,lats,topo,cmap=plt.cm.jet,latlon=True)\n",
    "m.drawcoastlines()\n",
    "m.drawmapboundary()\n",
    "plt.title('SMRT30 - Bathymetry/Topography')\n",
    "cbar = plt.colorbar(orientation='horizontal', extend='both')\n",
    "cbar.ax.set_xlabel('meters')\n",
    " \n",
    "# Save figure (without 'white' borders)\n",
    "plt.savefig('topo.png', bbox_inches='tight')"
   ]
  }
 ],
 "metadata": {
  "kernelspec": {
   "display_name": "Python 3",
   "language": "python",
   "name": "python3"
  },
  "language_info": {
   "codemirror_mode": {
    "name": "ipython",
    "version": 3
   },
   "file_extension": ".py",
   "mimetype": "text/x-python",
   "name": "python",
   "nbconvert_exporter": "python",
   "pygments_lexer": "ipython3",
   "version": "3.7.3"
  }
 },
 "nbformat": 4,
 "nbformat_minor": 2
}
